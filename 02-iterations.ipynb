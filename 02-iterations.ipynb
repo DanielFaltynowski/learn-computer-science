{
 "cells": [
  {
   "cell_type": "markdown",
   "metadata": {},
   "source": [
    "# Branching Programs\n",
    "\n",
    "The kinds of computations we have been looking at thus far are called straight-line programs. They execute one statement after another in the order in which they appear, and stop when they run out of statements.\n",
    "\n",
    "Program that can change the order of executing instructions, based on defined *conditional*, is called a *branching program*. A conditional statement has three parts:\n",
    "\n",
    "- a test, i.e., an expression that evaluates to either `True` or `False`;\n",
    "\n",
    "- a block of code that is executed if the test evaluates to `True`; and\n",
    "\n",
    "- an optional block of code that is executed if the test evaluates to `False`."
   ]
  },
  {
   "cell_type": "markdown",
   "metadata": {},
   "source": [
    "### Conditional Statement in Python\n",
    "\n",
    "In Python, a conditional statement has the following form:\n",
    "\n",
    "```bash\n",
    "if <condition>:\n",
    "    <body>\n",
    "```\n",
    "Optionally, an optional block code that is executed if the test isn't passed after `else` statement.\n",
    "\n",
    "```bash\n",
    "if <condition>:\n",
    "    <body>\n",
    "else:\n",
    "    <body>\n",
    "```"
   ]
  },
  {
   "cell_type": "markdown",
   "metadata": {},
   "source": [
    "**Example 1.**\n",
    "\n",
    "Write a program that prints `x is equal zero` if $x=0$."
   ]
  },
  {
   "cell_type": "code",
   "execution_count": 62,
   "metadata": {},
   "outputs": [
    {
     "name": "stdout",
     "output_type": "stream",
     "text": [
      "x is equal zero\n"
     ]
    }
   ],
   "source": [
    "x = 0\n",
    "\n",
    "if x == 0:\n",
    "    print('x is equal zero')"
   ]
  },
  {
   "cell_type": "code",
   "execution_count": 63,
   "metadata": {},
   "outputs": [],
   "source": [
    "x = 1\n",
    "if x == 0:\n",
    "    print('x is equal zero')"
   ]
  },
  {
   "cell_type": "markdown",
   "metadata": {},
   "source": [
    "If $x = 0$, the output will be `x is equal zero`. Otherwise, the program will produce no output. In our super-basic example, this behaviour does not influence our efficiency of programming. But imagine that you present your code to your manager (or lecturer in this case), set $x=0$ and everything is okay. But if $x \\neq 0$, your manager won't be able to recognize if something went wrong. So you should handle the case if $x \\neq 0$ using `else` statement."
   ]
  },
  {
   "cell_type": "code",
   "execution_count": 64,
   "metadata": {},
   "outputs": [
    {
     "name": "stdout",
     "output_type": "stream",
     "text": [
      "x is equal zero\n"
     ]
    }
   ],
   "source": [
    "x = 0\n",
    "\n",
    "if x == 0:\n",
    "    print('x is equal zero')\n",
    "else:\n",
    "    print('x is not equal zero')"
   ]
  },
  {
   "cell_type": "code",
   "execution_count": 65,
   "metadata": {},
   "outputs": [
    {
     "name": "stdout",
     "output_type": "stream",
     "text": [
      "x is not equal zero\n"
     ]
    }
   ],
   "source": [
    "x = 1\n",
    "\n",
    "if x == 0:\n",
    "    print('x is equal zero')\n",
    "else:\n",
    "    print('x is not equal zero')"
   ]
  },
  {
   "cell_type": "markdown",
   "metadata": {},
   "source": [
    "**Example 2.**\n",
    "\n",
    "Write a program that for given $x$ will print its absolute value $|x|$."
   ]
  },
  {
   "cell_type": "markdown",
   "metadata": {},
   "source": [
    "Remember that absolute value for $x \\in \\mathbb{R}$ is defined by the following function $f: \\mathbb{R} \\longmapsto \\mathbb{R}$.\n",
    "\n",
    "$$\n",
    "f(x) = |x| = \\begin{cases}\n",
    "    x,& \\text{ if } x \\geq 0 \\\\\n",
    "    -x,& \\text{ if } x < 0\n",
    "\\end{cases}\n",
    "$$\n",
    "\n",
    "For example $|3|=3$, but $|-3| = 3$, so for every $x\\in \\mathbb{R}$ occurs $|x|=|-x|$ and $|x| \\geq 0$."
   ]
  },
  {
   "cell_type": "code",
   "execution_count": 66,
   "metadata": {},
   "outputs": [
    {
     "name": "stdout",
     "output_type": "stream",
     "text": [
      "3\n"
     ]
    }
   ],
   "source": [
    "x = 3\n",
    "\n",
    "if x >= 0:\n",
    "    print(x)\n",
    "else:\n",
    "    print(-x)"
   ]
  },
  {
   "cell_type": "code",
   "execution_count": 67,
   "metadata": {},
   "outputs": [
    {
     "name": "stdout",
     "output_type": "stream",
     "text": [
      "3\n"
     ]
    }
   ],
   "source": [
    "x = -3\n",
    "\n",
    "if x >= 0:\n",
    "    print(x)\n",
    "else:\n",
    "    print(-x)"
   ]
  },
  {
   "cell_type": "markdown",
   "metadata": {},
   "source": [
    "**Example 3.**\n",
    "\n",
    "Write a program that will print `x is even` if $x$ is even, and `x is odd` otherwise."
   ]
  },
  {
   "cell_type": "markdown",
   "metadata": {},
   "source": [
    "There are many ways to solve this problem.\n",
    "\n",
    "1. Number $x\\in \\mathbb{Z}$ is even if one of the divisors of $x$ is 2. That implies that $x$ is even if the remainder of $\\frac{x}{2}$ equals 0."
   ]
  },
  {
   "cell_type": "code",
   "execution_count": 68,
   "metadata": {},
   "outputs": [
    {
     "name": "stdout",
     "output_type": "stream",
     "text": [
      "x is even\n"
     ]
    }
   ],
   "source": [
    "x = 4\n",
    "\n",
    "if x % 2 == 0:\n",
    "    print('x is even')\n",
    "else:\n",
    "    print('x is odd')"
   ]
  },
  {
   "cell_type": "code",
   "execution_count": 69,
   "metadata": {},
   "outputs": [
    {
     "name": "stdout",
     "output_type": "stream",
     "text": [
      "x is odd\n"
     ]
    }
   ],
   "source": [
    "x = 5\n",
    "\n",
    "if x % 2 == 0:\n",
    "    print('x is even')\n",
    "else:\n",
    "    print('x is odd')"
   ]
  },
  {
   "cell_type": "markdown",
   "metadata": {},
   "source": [
    "2. You can also define the condition in an opposite way. Number $x$ is odd if the remainder $\\frac{x}{2}$ does not equal 0."
   ]
  },
  {
   "cell_type": "code",
   "execution_count": 70,
   "metadata": {},
   "outputs": [
    {
     "name": "stdout",
     "output_type": "stream",
     "text": [
      "x is even\n"
     ]
    }
   ],
   "source": [
    "x = 4\n",
    "\n",
    "if x % 2 != 0:\n",
    "    print('x is odd')\n",
    "else:\n",
    "    print('x is even')"
   ]
  },
  {
   "cell_type": "code",
   "execution_count": 71,
   "metadata": {},
   "outputs": [
    {
     "name": "stdout",
     "output_type": "stream",
     "text": [
      "x is odd\n"
     ]
    }
   ],
   "source": [
    "x = 5\n",
    "\n",
    "if x % 2 != 0:\n",
    "    print('x is odd')\n",
    "else:\n",
    "    print('x is even')"
   ]
  },
  {
   "cell_type": "markdown",
   "metadata": {},
   "source": [
    "3. The third way to solve this problem is to use `//` operation. If $x$ is odd, then operation `x / 2` will give a `float` type value. So if $x$ is odd, then `x // 2` will lose its floating part."
   ]
  },
  {
   "cell_type": "code",
   "execution_count": 72,
   "metadata": {},
   "outputs": [
    {
     "name": "stdout",
     "output_type": "stream",
     "text": [
      "x is even\n"
     ]
    }
   ],
   "source": [
    "x = 4\n",
    "\n",
    "if (x // 2) * 2 == x:\n",
    "    print('x is even')\n",
    "else:\n",
    "    print('x is odd')"
   ]
  },
  {
   "cell_type": "code",
   "execution_count": 73,
   "metadata": {},
   "outputs": [
    {
     "name": "stdout",
     "output_type": "stream",
     "text": [
      "x is odd\n"
     ]
    }
   ],
   "source": [
    "x = 5\n",
    "\n",
    "if (x // 2) * 2 == x:\n",
    "    print('x is even')\n",
    "else:\n",
    "    print('x is odd')"
   ]
  },
  {
   "cell_type": "markdown",
   "metadata": {},
   "source": [
    "4. The same in the opposite way."
   ]
  },
  {
   "cell_type": "code",
   "execution_count": 74,
   "metadata": {},
   "outputs": [
    {
     "name": "stdout",
     "output_type": "stream",
     "text": [
      "x is even\n"
     ]
    }
   ],
   "source": [
    "x = 4\n",
    "\n",
    "if (x // 2) * 2 != x:\n",
    "    print('x is odd')\n",
    "else:\n",
    "    print('x is even')"
   ]
  },
  {
   "cell_type": "code",
   "execution_count": 75,
   "metadata": {},
   "outputs": [
    {
     "name": "stdout",
     "output_type": "stream",
     "text": [
      "x is odd\n"
     ]
    }
   ],
   "source": [
    "x = 5\n",
    "\n",
    "if (x // 2) * 2 != x:\n",
    "    print('x is odd')\n",
    "else:\n",
    "    print('x is even')"
   ]
  },
  {
   "cell_type": "markdown",
   "metadata": {},
   "source": [
    "### Flowchart\n",
    "\n",
    "A **flowchart** is a type of diagram that represents a workflow or process. A flowchart can also be defined as a diagrammatic representation of an algorithm, a step-by-step approach to solving a task.\n",
    "\n",
    "![Flowcharts](images/flowcharts.png)"
   ]
  },
  {
   "cell_type": "markdown",
   "metadata": {},
   "source": [
    "**Example 1.**\n",
    "\n",
    "Draw a flowchart of the program that prints `x is equal zero` if $x=0$.\n",
    "\n",
    "![Flowchart](images/fc_ex1.png)"
   ]
  },
  {
   "cell_type": "markdown",
   "metadata": {},
   "source": [
    "**Example 2.**\n",
    "\n",
    "Draw a flowchart of the program that for given $x$ will print its absolute value $|x|$.\n",
    "\n",
    "![Flowchart](images/fc_ex2.png)"
   ]
  },
  {
   "cell_type": "markdown",
   "metadata": {},
   "source": [
    "**Example 3.**\n",
    "\n",
    "Draw a flowchart of the program that will print `x is even` if $x$ is even, and `x is odd` otherwise.\n",
    "\n",
    "![Flowchart](images/fc_ex3.png)"
   ]
  },
  {
   "cell_type": "markdown",
   "metadata": {},
   "source": [
    "### Pseudocode\n",
    "\n",
    "**Pseudocode** is a universal set of instructions for some procedure that can be understood by every programmer, no matter which programming language they use."
   ]
  },
  {
   "cell_type": "markdown",
   "metadata": {},
   "source": [
    "**Example 1.**\n",
    "\n",
    "Write a pseudocode of the program that prints `x is equal zero` if $x=0$.\n",
    "\n",
    "```bash\n",
    "EQUAL_ZERO(int x): str\n",
    "    if x = 0 then\n",
    "        print that x equals zero\n",
    "    else\n",
    "        print that x not equals zero\n",
    "```"
   ]
  },
  {
   "cell_type": "markdown",
   "metadata": {},
   "source": [
    "**Example 2.**\n",
    "\n",
    "Write a pseudocode of the program that for given $x$ will print its absolute value $|x|$.\n",
    "\n",
    "```bash\n",
    "ABSOLUTE_VALUE(int x): int\n",
    "    if x >= 0 then\n",
    "        return x\n",
    "    else\n",
    "        retuurn -x\n",
    "```"
   ]
  },
  {
   "cell_type": "markdown",
   "metadata": {},
   "source": [
    "**Example 3.**\n",
    "\n",
    "Write a pseudocode of the program that will print `x is even` if $x$ is even, and `x is odd` otherwise.\n",
    "\n",
    "```bash\n",
    "IS_EVEN_ODD(int x): str\n",
    "    if x mod 2 = 0 then\n",
    "        print that x is even\n",
    "    else\n",
    "        print that x is odd\n",
    "```"
   ]
  },
  {
   "cell_type": "markdown",
   "metadata": {},
   "source": [
    "### Test Coverage\n",
    "\n",
    "To be 100% sure that your program works as you expect, check every possible input and every possible output. If somewhere the program gives unexpected results, your program needs repair."
   ]
  },
  {
   "cell_type": "markdown",
   "metadata": {},
   "source": [
    "**Example**\n",
    "\n",
    "Assume you want to write a program that will say which number $x, y, z \\in \\mathbb{R}$ is the least."
   ]
  },
  {
   "cell_type": "code",
   "execution_count": 76,
   "metadata": {},
   "outputs": [
    {
     "name": "stdout",
     "output_type": "stream",
     "text": [
      "y is least\n"
     ]
    }
   ],
   "source": [
    "x = 15\n",
    "y = 5\n",
    "z = 11\n",
    "\n",
    "if x < y:\n",
    "    if x < z:\n",
    "        print('x is least')\n",
    "    else:\n",
    "        print('z is least')\n",
    "else:\n",
    "    print('y is least')"
   ]
  },
  {
   "cell_type": "code",
   "execution_count": 77,
   "metadata": {},
   "outputs": [
    {
     "name": "stdout",
     "output_type": "stream",
     "text": [
      "y is least\n"
     ]
    }
   ],
   "source": [
    "x = 15\n",
    "y = 13\n",
    "z = 11\n",
    "\n",
    "if x < y:\n",
    "    if x < z:\n",
    "        print('x is least')\n",
    "    else:\n",
    "        print('z is least')\n",
    "else:\n",
    "    print('y is least')"
   ]
  },
  {
   "cell_type": "markdown",
   "metadata": {},
   "source": [
    "All conditions are correct. For $x = 15$, $y = 5$, $z = 11$ the output is `y is least`. But for $x = 15$, $y = 13$, $z = 11$ the output is also `y is least`. You must pay attention that if the first condition returns `True`, then the `else` block becomes unavailable."
   ]
  },
  {
   "cell_type": "code",
   "execution_count": 78,
   "metadata": {},
   "outputs": [
    {
     "name": "stdout",
     "output_type": "stream",
     "text": [
      "y is least\n"
     ]
    }
   ],
   "source": [
    "x = 15\n",
    "y = 5\n",
    "z = 11\n",
    "\n",
    "if x < y and x < z:\n",
    "    print('x is least')\n",
    "else:\n",
    "    if y < z:\n",
    "        print('y is least')\n",
    "    else:\n",
    "        print('z is least')"
   ]
  },
  {
   "cell_type": "code",
   "execution_count": 79,
   "metadata": {},
   "outputs": [
    {
     "name": "stdout",
     "output_type": "stream",
     "text": [
      "z is least\n"
     ]
    }
   ],
   "source": [
    "x = 15\n",
    "y = 13\n",
    "z = 11\n",
    "\n",
    "if x < y and x < z:\n",
    "    print('x is least')\n",
    "else:\n",
    "    if y < z:\n",
    "        print('y is least')\n",
    "    else:\n",
    "        print('z is least')"
   ]
  },
  {
   "cell_type": "markdown",
   "metadata": {},
   "source": [
    "For $x = 15$, $y = 5$, $z = 11$ the output is `y is least`, and for $x = 15$, $y = 13$, $z = 11$ the output is also `z is least`."
   ]
  },
  {
   "cell_type": "markdown",
   "metadata": {},
   "source": [
    "### Matching\n",
    "\n",
    "In Python, there exists the structure `elif <condition>` that combines `else: if <condition>` into a shorter form."
   ]
  },
  {
   "cell_type": "markdown",
   "metadata": {},
   "source": [
    "**Example**\n",
    "\n",
    "The program that will say which number $x, y, z \\in \\mathbb{R}$ is the least can be written more concisely using the `elif` statement."
   ]
  },
  {
   "cell_type": "code",
   "execution_count": 80,
   "metadata": {},
   "outputs": [
    {
     "name": "stdout",
     "output_type": "stream",
     "text": [
      "y is least\n"
     ]
    }
   ],
   "source": [
    "x = 15\n",
    "y = 5\n",
    "z = 11\n",
    "\n",
    "if x < y and x < z:\n",
    "    print('x is least')\n",
    "elif y < z:\n",
    "    print('y is least')\n",
    "else:\n",
    "    print('z is least')"
   ]
  },
  {
   "cell_type": "code",
   "execution_count": 81,
   "metadata": {},
   "outputs": [
    {
     "name": "stdout",
     "output_type": "stream",
     "text": [
      "z is least\n"
     ]
    }
   ],
   "source": [
    "x = 15\n",
    "y = 13\n",
    "z = 11\n",
    "\n",
    "if x < y and x < z:\n",
    "    print('x is least')\n",
    "elif y < z:\n",
    "    print('y is least')\n",
    "else:\n",
    "    print('z is least')"
   ]
  },
  {
   "cell_type": "markdown",
   "metadata": {},
   "source": [
    "For $x = 15$, $y = 5$, $z = 11$ the output is `y is least`, and for $x = 15$, $y = 13$, $z = 11$ the output is also `z is least`."
   ]
  }
 ],
 "metadata": {
  "kernelspec": {
   "display_name": "Python 3",
   "language": "python",
   "name": "python3"
  },
  "language_info": {
   "codemirror_mode": {
    "name": "ipython",
    "version": 3
   },
   "file_extension": ".py",
   "mimetype": "text/x-python",
   "name": "python",
   "nbconvert_exporter": "python",
   "pygments_lexer": "ipython3",
   "version": "3.12.4"
  }
 },
 "nbformat": 4,
 "nbformat_minor": 2
}
