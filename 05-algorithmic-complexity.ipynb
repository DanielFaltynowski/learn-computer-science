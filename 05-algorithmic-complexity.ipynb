{
 "cells": [
  {
   "cell_type": "code",
   "execution_count": null,
   "metadata": {},
   "outputs": [],
   "source": [
    "def power(a, b):\n",
    "    ans = 1\n",
    "    while b > 0:\n",
    "        ans = ans * a\n",
    "        b = b - 1\n",
    "    return ans"
   ]
  },
  {
   "cell_type": "code",
   "execution_count": null,
   "metadata": {},
   "outputs": [],
   "source": [
    "def power(a, b):\n",
    "    if b <= 1:\n",
    "        return a\n",
    "    else:\n",
    "        return a * power(a, b - 1)"
   ]
  },
  {
   "cell_type": "code",
   "execution_count": null,
   "metadata": {},
   "outputs": [],
   "source": [
    "def power(a, b):\n",
    "    if b <= 1:\n",
    "        return a\n",
    "    else:\n",
    "        if b % 2 == 0:\n",
    "            return power(a * a, b // 2)\n",
    "        else:\n",
    "            return a * power(a, b - 1)"
   ]
  }
 ],
 "metadata": {
  "language_info": {
   "name": "python"
  }
 },
 "nbformat": 4,
 "nbformat_minor": 2
}
