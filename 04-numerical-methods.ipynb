{
 "cells": [
  {
   "cell_type": "code",
   "execution_count": null,
   "metadata": {},
   "outputs": [
    {
     "name": "stdout",
     "output_type": "stream",
     "text": [
      "0.9999999999999999\n",
      "1.9999999999999998\n",
      "2.0\n"
     ]
    }
   ],
   "source": [
    "###\n",
    "\n",
    "i = 0\n",
    "ans = 0\n",
    "\n",
    "while i < 10:\n",
    "    ans = ans + 0.1\n",
    "    i = i + 1\n",
    "\n",
    "print(ans)\n",
    "\n",
    "###\n",
    "\n",
    "ans_1 = (1 / 3) + (1 / 3) + (1 / 3) + (1 / 3) + (1 / 3) + (1 / 3)\n",
    "ans_2 = 6 * (1 / 3)\n",
    "\n",
    "print(ans_1)\n",
    "print(ans_2)\n",
    "\n",
    "###\n",
    "\n",
    "def approximationMethod(f, a, b, epsilon=0.01):\n",
    "    if epsilon < 0:\n",
    "        epsilon = -epsilon\n",
    "    ans = a\n",
    "    while ans <= b:\n",
    "        if -epsilon <= f(ans) <= epsilon:\n",
    "            return ans\n",
    "        ans = ans + epsilon\n",
    "\n",
    "def bisectionMethod(f, a, b, epsilon=0.0001):\n",
    "    if epsilon < 0:\n",
    "        epsilon = -epsilon\n",
    "    if a > b:\n",
    "        temp = a\n",
    "        a = b\n",
    "        b = temp\n",
    "    ans = (a + b) / 2\n",
    "    while f(ans) > epsilon or f(ans) < -epsilon:\n",
    "        if f(ans) > 0:\n",
    "            if f(a) > 0:\n",
    "                a = ans\n",
    "            else:\n",
    "                b = ans\n",
    "        if f(ans) < 0:\n",
    "            if f(a) > 0:\n",
    "                b = ans\n",
    "            else:\n",
    "                a = ans\n",
    "        ans = (a + b) / 2\n",
    "    return ans\n",
    "\n",
    "def derivative(f, x, h=0.0001):\n",
    "        return (f(x + h) - f(x)) / h\n",
    "\n",
    "def newtonRaphsonMethod(f, x_0, epsilon=0.0001):\n",
    "    if epsilon < 0:\n",
    "        epsilon = -epsilon\n",
    "    ans = x_0\n",
    "    while f(ans) > epsilon or f(ans) < -epsilon:\n",
    "        ans = ans - (f(ans) / derivative(f, ans))\n",
    "    return ans"
   ]
  }
 ],
 "metadata": {
  "kernelspec": {
   "display_name": "Python 3",
   "language": "python",
   "name": "python3"
  },
  "language_info": {
   "codemirror_mode": {
    "name": "ipython",
    "version": 3
   },
   "file_extension": ".py",
   "mimetype": "text/x-python",
   "name": "python",
   "nbconvert_exporter": "python",
   "pygments_lexer": "ipython3",
   "version": "3.12.4"
  }
 },
 "nbformat": 4,
 "nbformat_minor": 2
}
