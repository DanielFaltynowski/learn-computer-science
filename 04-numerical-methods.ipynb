{
 "cells": [
  {
   "cell_type": "markdown",
   "metadata": {},
   "source": [
    "# Calculation Errors\n",
    "\n",
    "I can expect that the result of the following program will be `1.0`."
   ]
  },
  {
   "cell_type": "code",
   "execution_count": 1,
   "metadata": {},
   "outputs": [
    {
     "name": "stdout",
     "output_type": "stream",
     "text": [
      "0.9999999999999999\n"
     ]
    }
   ],
   "source": [
    "i = 0\n",
    "ans = 0\n",
    "\n",
    "while i < 10:\n",
    "    ans = ans + 0.1\n",
    "    i = i + 1\n",
    "\n",
    "print(ans)"
   ]
  },
  {
   "cell_type": "markdown",
   "metadata": {},
   "source": [
    "But I got `0.9999999999999999`. \n",
    "\n",
    "This situation occurs due to the way computers store data. It happens using zeros and ones, meaning that the data storage system in a computer is the binary system. To understand the output of the above program, one must first get a basic understanding of how data is recorded in memory."
   ]
  },
  {
   "cell_type": "markdown",
   "metadata": {},
   "source": [
    "# Decimal to Binary Conversion\n",
    "\n",
    "We divide the integer part entirely by 2 and record the remainder of the division."
   ]
  },
  {
   "cell_type": "markdown",
   "metadata": {},
   "source": [
    "**Example 1: Converting a Decimal Number to Binary**\n",
    "\n",
    "Given the decimal number:\n",
    "\n",
    "$ n = 69.625 $\n",
    "\n",
    "**Converting the Integer Part**\n",
    "\n",
    "We convert the integer part ($69$) to binary using successive division by $2$ and noting the remainders:\n",
    "\n",
    "$\n",
    "69 \\div 2 = 34 \\text{ mod } 1 \\\\\n",
    "34 \\div 2 = 17 \\text{ mod } 0 \\\\\n",
    "17 \\div 2 = 8 \\text{ mod } 1 \\\\\n",
    "8 \\div 2 = 4 \\text{ mod } 0 \\\\\n",
    "4 \\div 2 = 2 \\text{ mod } 0 \\\\\n",
    "2 \\div 2 = 1 \\text{ mod } 0 \\\\\n",
    "1 \\div 2 = 0 \\text{ mod } 1\n",
    "0\n",
    "$\n",
    "\n",
    "Reading the remainders from bottom to top, the integer part in binary is: $ 69_{(10)} = 1000101_{(2)} $.\n",
    "\n",
    "**Converting the Fractional Part**\n",
    "\n",
    "To convert the fractional part ($0.625$) to binary, we add $\\frac{1}{2^i}$ and extract the integer parts:\n",
    "\n",
    "$i = 1 \\\\ ans = 0: \\frac{1}{2^1} = \\frac{1}{2} = 0.5 \\to ans + 0.5 < 0.625 \\quad \\text{take}$\n",
    "\n",
    "$i = 2 \\\\ ans = 0.5: \\frac{1}{2^2} = \\frac{1}{4} = 0.25 \\to ans + 0.25 = 0.75 > 0.625 \\quad \\text{not take}$\n",
    "\n",
    "$i = 3 \\\\ ans = 0.5: \\frac{1}{2^3} = \\frac{1}{8} = 0.125 \\to ans + 0.125 = 0.625 \\quad \\text{take}$\n",
    "\n",
    "$i = 4 \\\\ ans = 0.625: \\text{stop}$\n",
    "\n",
    "The fractional part in binary is read from top to bottom as: $ 0.625_{(10)} = 0.101_{(2)} $.\n",
    "\n",
    "Combining both parts: $ 69.625_{(10)} = 1000101.101_{(2)} $.\n"
   ]
  },
  {
   "cell_type": "markdown",
   "metadata": {},
   "source": [
    "**Example 2.**\n",
    "\n",
    "$n = 14.09375$\n",
    "\n",
    "**Converting the Integer Part**\n",
    "\n",
    "$14 \\div 2 = 7 \\text{ mod } 0 \\\\\n",
    "7 \\div 2 = 3 \\text{ mod } 1 \\\\\n",
    "3 \\div 2 = 1 \\text{ mod } 1 \\\\\n",
    "1 \\div 2 = 4 \\text{ mod } 1 \\\\\n",
    "0$\n",
    "\n",
    "Reading the remainders from bottom to top, the integer part in binary is: $14|_{(10)} = 1110|_{(2)}$.\n",
    "\n",
    "**Converting the Fractional Part**\n",
    "\n",
    "$i = 1 \\\\ ans = 0: \\frac{1}{2^1} = \\frac{1}{2} = 0.5 \\to ans + 0.5 = 0.5 > 0.09375 \\quad \\text{not take}$\n",
    "\n",
    "$i = 2 \\\\ ans = 0: \\frac{1}{2^2} = \\frac{1}{4} = 0.25 \\to ans + 0.25 = 0.25 > 0.09375 \\quad \\text{not take}$\n",
    "\n",
    "$i = 3 \\\\ ans = 0: \\frac{1}{2^3} = \\frac{1}{8} = 0.125 \\to ans + 0.125 = 0.125 > 0.09375 \\quad \\text{not take}$\n",
    "\n",
    "$i = 4 \\\\ ans = 0: \\frac{1}{2^4} = \\frac{1}{16} = 0.0625 \\to ans + 0.0625 = 0.0625 < 0.09375 \\quad \\text{take}$\n",
    "\n",
    "$i = 5 \\\\ ans = 0.0625: \\frac{1}{2^5} = \\frac{1}{32} = 0.03125 \\to ans + 0.03125 = 0.09375 \\quad \\text{take}$\n",
    "\n",
    "$i = 6 \\\\ ans = 0.09375: \\text{stop}$\n",
    "\n",
    "The fractional part in binary is read from top to bottom as: $0.09375|_{(10)} = 0.00011|_{(2)}$.\n",
    "\n",
    "Combining both parts: $14.09375|_{(10)} = 1110.00011|_{(2)}$."
   ]
  },
  {
   "cell_type": "markdown",
   "metadata": {},
   "source": [
    "# Binary to Decimal Conversion\n",
    "\n",
    "Converting binary numbers to decimal involves expanding the binary number into its positional components, where each digit is multiplied by the corresponding power of $2$. The powers of $2$ are positive for digits to the left of the decimal point, and negative for digits to the right."
   ]
  },
  {
   "cell_type": "markdown",
   "metadata": {},
   "source": [
    "**Example 1:**\n",
    "\n",
    "Given the binary number:\n",
    "\n",
    "$ n|_{(2)} = 10110.101|_{(2)} $\n",
    "\n",
    "We convert it to decimal by expanding it using powers of $2$:\n",
    "\n",
    "$$\n",
    "n|_{(10)} = 1 \\times 2^4 + 0 \\times 2^3 + 1 \\times 2^2 + 1 \\times 2^1 + 0 \\times 2^0 + 1 \\times 2^{-1} + 0.0 \\times 2^{-2} + 1 \\times 2^{-3}\n",
    "$$\n",
    "\n",
    "Now, calculate each term:\n",
    "\n",
    "$$\n",
    "n|_{(10)} = 16 + 0 + 4 + 2 + 0 + 0.5 + 0.0 + 0.125 = 22.625\n",
    "$$\n",
    "\n",
    "So, the decimal representation of the binary number $10110.101_{(2)}$ is:\n",
    "\n",
    "$$\n",
    "n|_{(10)} = 22.625\n",
    "$$"
   ]
  },
  {
   "cell_type": "markdown",
   "metadata": {},
   "source": [
    "**Example 2:**\n",
    "\n",
    "Given the binary number:\n",
    "\n",
    "$ n|_{(2)} = 11101.01011|_{(2)} $\n",
    "\n",
    "We convert it to decimal by expanding it using powers of $2$:\n",
    "\n",
    "$$\n",
    "n|_{(10)} = 1 \\times 2^4 + 1 \\times 2^3 + 1 \\times 2^2 + 0 \\times 2^1 + 1 \\times 2^0 + 0 \\times 2^{-1} + 1 \\times 2^{-2} + 0 \\times 2^{-3} + 1 \\times 2^{-4} + 1 \\times 2^{-5}\n",
    "$$\n",
    "\n",
    "Now, calculate each term:\n",
    "\n",
    "$$\n",
    "n|_{(10)} = 16 + 8 + 4 + 0 + 1 + 0.0 + 0.25 + 0.0 + 0.0625 + 0.03125 = 29.34375\n",
    "$$\n",
    "\n",
    "So, the decimal representation of the binary number $11101.01011_{(2)}$ is:\n",
    "\n",
    "$$\n",
    "n|_{(10)} = 29.34375\n",
    "$$"
   ]
  },
  {
   "cell_type": "markdown",
   "metadata": {},
   "source": [
    "# Two's Complement\n",
    "\n",
    "The **two's complement** representation is a method used to encode both positive and negative integers in binary form. It is widely used in computer systems for representing signed numbers, as it allows for efficient arithmetic operations like addition and subtraction to be performed without distinguishing between positive and negative values.\n",
    "\n",
    "**General Approach**:\n",
    "\n",
    "1. **Positive Numbers**: When the number is positive, the two's complement representation is the same as the regular binary representation. The leading bit (most significant bit) is `0` for positive numbers in an n-bit system.\n",
    "   \n",
    "2. **Negative Numbers**: When the number is negative, we first find the binary representation of its absolute value, then take the **bitwise negation** (invert all the bits) and finally **add one** to the result. This operation ensures that negative numbers are represented efficiently in binary, allowing arithmetic operations to work uniformly for both positive and negative numbers.\n",
    "\n",
    "**Conversion Steps for Negative Numbers**:\n",
    "\n",
    "- **Step 1**: Find the binary representation of the absolute value of the number.\n",
    "\n",
    "- **Step 2**: Invert all the bits (bitwise NOT).\n",
    "\n",
    "- **Step 3**: Add $1$ to the result.\n",
    "\n",
    "This method ensures that the range of numbers that can be represented in an n-bit system extends from $-2^(n-1)$ to $2^(n-1) - 1$.\n",
    "\n",
    "\n",
    "**Example 1:**\n",
    "\n",
    "Convert $14$ into an 8-bit two's complement representation.\n",
    "\n",
    "1. First, convert $14$ into binary:\n",
    "   - $14 \\div 2 = 7 \\, \\text{ mod } \\, 0$\n",
    "   - $7 \\div 2 = 3 \\, \\text{ mod } \\, 1$\n",
    "   - $3 \\div 2 = 1 \\, \\text{ mod } \\, 1$\n",
    "   - $1 \\div 2 = 0 \\, \\text{ mod } \\, 1$\n",
    "   \n",
    "   The binary representation of $14$ is $1110$.\n",
    "   \n",
    "2. Since $14$ is positive, the two's complement representation is the same as the binary form, with leading zeros to fit into 8 bits.\n",
    "\n",
    "Answer:\n",
    "$$\n",
    "\\text{Two's complement of 14 on 8 bits} = 00001110\n",
    "$$\n",
    "\n",
    "**Example 2:**\n",
    "\n",
    "Convert $-25$ into an 8-bit two's complement representation.\n",
    "\n",
    "1. First, find the binary representation of the absolute value of $25$:\n",
    "   - $25 \\div 2 = 12 \\, \\text{ mod } \\, 1$\n",
    "   - $12 \\div 2 = 6 \\, \\text{ mod } \\, 0$\n",
    "   - $6 \\div 2 = 3 \\, \\text{ mod } \\, 0$\n",
    "   - $3 \\div 2 = 1 \\, \\text{ mod } \\, 1$\n",
    "   - $1 \\div 2 = 0 \\, \\text{ mod } \\, 1$\n",
    "   \n",
    "   The binary representation of $25$ is $11001$.\n",
    "   \n",
    "2. Since we are using 8 bits, pad it with leading zeros to make it 8 bits: $00011001$.\n",
    "\n",
    "3. Now, invert all the bits (bitwise negation):\n",
    "   $$ \n",
    "   \\neg(00011001) = 11100110\n",
    "   $$\n",
    "\n",
    "4. Finally, add $1$ to the result:\n",
    "   $$ \n",
    "   11100110 + 1 = 11100111\n",
    "   $$\n",
    "\n",
    "Thus, the two's complement representation of $-25$ on 8 bits is:\n",
    "$$\n",
    "\\text{Two's complement of -25 on 8 bits} = 11100111\n",
    "$$\n",
    "\n",
    "**Summary**:\n",
    "\n",
    "- **Positive numbers** are represented directly in binary with a leading `0` for an n-bit system.\n",
    "- **Negative numbers** are represented by taking the binary of the absolute value, inverting the bits, and adding 1. The most significant bit (MSB) is `1` for negative numbers, which indicates the sign of the number in two's complement notation.\n",
    "- The two's complement system simplifies binary arithmetic, as both addition and subtraction can be performed without needing separate logic for positive and negative numbers.\n",
    "\n",
    "**Additional Note**:\n",
    "\n",
    "The two's complement method allows for **efficient subtraction**, as subtracting a number is equivalent to adding its two's complement. Additionally, this method eliminates the need for a separate sign bit and ensures that zero is uniquely represented (with all bits set to `0`).\n"
   ]
  },
  {
   "cell_type": "markdown",
   "metadata": {},
   "source": [
    "# Floating-Point Arithmetic (IEEE 754)\n",
    "\n",
    "IEEE 754 is the standard for floating-point computation. It defines two common formats:\n",
    "- **32-bit (Single Precision)**\n",
    "- **64-bit (Double Precision)**\n",
    "\n",
    "### 32-bit IEEE 754 Format (Single Precision)\n",
    "The format for a 32-bit floating-point number is as follows:\n",
    "- 1 bit for the **sign** (S)\n",
    "- 8 bits for the **exponent** (E)\n",
    "- 23 bits for the **fraction (mantissa)** (M)\n",
    "\n",
    "The formula is: $(-1)^S * (1 + M) * 2^{E - 127}$\n",
    "\n",
    "\n",
    "### 64-bit IEEE 754 Format (Double Precision)\n",
    "The format for a 64-bit floating-point number is as follows:\n",
    "- 1 bit for the **sign** (S)\n",
    "- 11 bits for the **exponent** (E)\n",
    "- 52 bits for the **fraction (mantissa)** (M)\n",
    "\n",
    "The formula is: $(-1)^S * (1 + M) * 2^{E - 1023}$\n",
    "\n",
    "**Example 1**: Convert -12.25 into IEEE 754 32-bit and 64-bit\n",
    "\n",
    "**32-bit IEEE 754 (Single Precision)**\n",
    "\n",
    "1. Convert -12.25 to binary:\n",
    "   - **12** = `1100`\n",
    "   - **0.25** = `0.01`\n",
    "   - So, -12.25 = `-1100.01`\n",
    "\n",
    "2. Normalize the binary:\n",
    "   - `-1100.01` = `-1.10001 × 2^3`\n",
    "\n",
    "3. Encode:\n",
    "   - Sign bit (S) = `1` (negative)\n",
    "   - Exponent (E) = `3 + 127 = 130` → binary `10000010`\n",
    "   - Mantissa (M) = `10001000000000000000000` (take the fractional part after the decimal point)\n",
    "\n",
    "So, the IEEE 754 32-bit representation is:\n",
    "| Sign | Exponent   | Mantissa                                           |\n",
    "|------|------------|----------------------------------------------------|\n",
    "| 1    | 10000010   | 10001000000000000000000                           |\n",
    "\n",
    "\n",
    "\n",
    "**64-bit IEEE 754 (Double Precision)**\n",
    "\n",
    "1. Normalize the binary as done for 32-bit:\n",
    "   - `-1.10001 × 2^3`\n",
    "\n",
    "2. Encode:\n",
    "   - Sign bit (S) = `1` (negative)\n",
    "   - Exponent (E) = `3 + 1023 = 1026` → binary `10000000010`\n",
    "   - Mantissa (M) = `1000100000000000000000000000000000000000000000000000`\n",
    "\n",
    "So, the IEEE 754 64-bit representation is:\n",
    "\n",
    "| Sign | Exponent   | Mantissa                                           |\n",
    "|------|------------|----------------------------------------------------|\n",
    "| 1    | 10000000010 | 1000100000000000000000000000000000000000000000000000 |\n",
    "\n",
    "\n",
    "**Example 2**: Convert `0|10100100|00110100000000000000000` into decimal and otherwise\n",
    "\n",
    "This is a 32-bit IEEE 754 representation:\n",
    "\n",
    "1. Extract the components:\n",
    "   - Sign bit (S) = `0` (positive)\n",
    "   - Exponent (E) = `10100100` = `164` in decimal\n",
    "   - Mantissa (M) = `1.00110100000000000000000` (1 plus the fraction after the binary point)\n",
    "\n",
    "2. Calculate:\n",
    "   - Exponent = `164 - 127 = 37`\n",
    "   - Mantissa = `1 + 1/16 + 1/128 = 1.1015625`\n",
    "\n",
    "So, the value in decimal is: $1.1015625 \\times 2^37 \\approx 8.517837094604492$\n",
    "\n",
    "\n",
    "### To convert this back to IEEE 754 64-bit:\n",
    "\n",
    "For the IEEE 754 64-bit (double precision):\n",
    "- The value is the same, but with a larger exponent (11 bits) and more precision (52 bits for mantissa).\n",
    "- The final value would be encoded similarly, but with a larger exponent bias (1023 instead of 127)."
   ]
  },
  {
   "cell_type": "markdown",
   "metadata": {},
   "source": [
    "# Exhaustive Enumeration\n",
    "\n",
    "to do"
   ]
  },
  {
   "cell_type": "markdown",
   "metadata": {},
   "source": [
    "# Numerical Methods of Finding Root\n",
    "\n",
    "Calculations with real numbers present a huge problem in computer science. Just look at the first program in this notebook, where such a simple task produced an incorrect result. The situation worsens when numbers with an infinite number of decimal places are involved, such as $\\frac{1}{3} = 0.\\overline{3} = 0.(3) = 0.33333...$."
   ]
  },
  {
   "cell_type": "code",
   "execution_count": 2,
   "metadata": {},
   "outputs": [
    {
     "name": "stdout",
     "output_type": "stream",
     "text": [
      "1.9999999999999998\n"
     ]
    }
   ],
   "source": [
    "ans = (1 / 3) + (1 / 3) + (1 / 3) + (1 / 3) + (1 / 3) + (1 / 3)\n",
    "print(ans)"
   ]
  },
  {
   "cell_type": "markdown",
   "metadata": {},
   "source": [
    "One might expect that 6 * (1 / 3) would yield a similar result, but nothing could be further from the truth."
   ]
  },
  {
   "cell_type": "code",
   "execution_count": 3,
   "metadata": {},
   "outputs": [
    {
     "name": "stdout",
     "output_type": "stream",
     "text": [
      "2.0\n"
     ]
    }
   ],
   "source": [
    "ans = 6 * (1 / 3)\n",
    "print(ans)"
   ]
  },
  {
   "cell_type": "markdown",
   "metadata": {},
   "source": [
    "As seen in this case, the computer handled the situation better when we used multiplication instead of addition. Note that this is not a rule; there are many cases where summation gives better results and others where only multiplication can preserve precision. At the beginning of learning computer science and programming, you shouldn't focus too much on this, as Python handles this problem very well. Unfortunately, not all programming languages can boast this skill. This issue is so vast that a special field of study has been created to examine this phenomenon, called **numerical methods**. However, it covers such a wide range that a solid understanding of differential calculus, linear algebra, discrete mathematics, and real analysis is needed for a good grasp, so I will not be dealing with it here.\n",
    "\n",
    "I will focus only on what will be useful at the very beginning."
   ]
  },
  {
   "cell_type": "markdown",
   "metadata": {},
   "source": [
    "### Approximation Method\n",
    "\n",
    "To avoid errors I assume computer make some errors during calculations. We can call this value by epsilon $\\epsilon$.\n",
    "\n",
    "- $n$: real answer (for example $\\pi$)\n",
    "- $\\text{ans}$: computer answer (for example `3.1415926535897932`)\n",
    "- $\\epsilon$: possible error (for example `0.01`)\n",
    "\n",
    "We can assume that if the following statement is `True`, then $n = \\text{ans}$.\n",
    "\n",
    "$$ |n - \\text{ans}| < \\epsilon \\implies n \\approx \\text{ans} \\implies n = \\text{ans}$$\n",
    "\n",
    "To illustrate this, I will tackle the problem of finding the roots of a function over a given interval. I will immediately point out that there are methods to find all the roots of a function, but these go well beyond the basics of programming, so I will focus on a simpler problem where our goal is to find one root within a specific interval. Therefore, the first thing is that we must know that there is a root within this interval.\n",
    "\n",
    "The simplest approach is to search the entire interval by moving with a step of $\\epsilon$, ensuring that every point is checked.\n",
    "\n",
    "For this purpose, I wrote a function that returns the root."
   ]
  },
  {
   "cell_type": "code",
   "execution_count": 4,
   "metadata": {},
   "outputs": [
    {
     "name": "stdout",
     "output_type": "stream",
     "text": [
      "Real Answer: 2 | Approximation Method: 2.000000000000001\n",
      "Real Answer: 5 | Approximation Method: 4.999999999999936\n",
      "Real Answer: 0 | Approximation Method: 7.528699885739343e-16\n"
     ]
    }
   ],
   "source": [
    "def approximation_method(f, a, b, epsilon=0.01):\n",
    "    if epsilon < 0:\n",
    "        epsilon = -epsilon\n",
    "    ans = a\n",
    "    while ans <= b:\n",
    "        if -epsilon <= f(ans) <= epsilon:\n",
    "            return ans\n",
    "        ans = ans + epsilon\n",
    "\n",
    "def f(x):\n",
    "    return x ** 2 - 4\n",
    "\n",
    "def g(x):\n",
    "    return 10 * (x ** 3) + 11 * (x ** 2) - 299 * x - 30\n",
    "\n",
    "def h(x):\n",
    "    return 2 * (x ** 3) - 3 * (x ** 2) + 5 * x\n",
    "\n",
    "print(f'Real Answer: 2 | Approximation Method: {approximation_method(f, 1, 3)}')\n",
    "print(f'Real Answer: 5 | Approximation Method: {approximation_method(g, 2, 6)}')\n",
    "print(f'Real Answer: 0 | Approximation Method: {approximation_method(h, -1, 1)}')"
   ]
  },
  {
   "cell_type": "markdown",
   "metadata": {},
   "source": [
    "The main problem, however, is that this method is very, very **time-consuming**. Additionally, if $\\epsilon$ is set to a small sensitivity, it may happen that the root is not found. Below is the same function, but also counting the number of iterations."
   ]
  },
  {
   "cell_type": "code",
   "execution_count": 5,
   "metadata": {},
   "outputs": [
    {
     "name": "stdout",
     "output_type": "stream",
     "text": [
      "Real Answer: 2 | Approximation Method: (2.000000000000001, '(100 iterations)')\n",
      "Real Answer: 5 | Approximation Method: (4.999999999999936, '(300 iterations)')\n",
      "Real Answer: 0 | Approximation Method: (7.528699885739343e-16, '(100 iterations)')\n"
     ]
    }
   ],
   "source": [
    "def approximation_method(f, a, b, epsilon=0.01):\n",
    "    iterations = 0\n",
    "    if epsilon < 0:\n",
    "        epsilon = -epsilon\n",
    "    ans = a\n",
    "    while ans <= b:\n",
    "        if -epsilon <= f(ans) <= epsilon:\n",
    "            return (ans, f'({iterations} iterations)')\n",
    "        ans = ans + epsilon\n",
    "        iterations = iterations + 1\n",
    "\n",
    "def f(x):\n",
    "    return x ** 2 - 4\n",
    "\n",
    "def g(x):\n",
    "    return 10 * (x ** 3) + 11 * (x ** 2) - 299 * x - 30\n",
    "\n",
    "def h(x):\n",
    "    return 2 * (x ** 3) - 3 * (x ** 2) + 5 * x\n",
    "\n",
    "print(f'Real Answer: 2 | Approximation Method: {approximation_method(f, 1, 3)}')\n",
    "print(f'Real Answer: 5 | Approximation Method: {approximation_method(g, 2, 6)}')\n",
    "print(f'Real Answer: 0 | Approximation Method: {approximation_method(h, -1, 1)}')"
   ]
  },
  {
   "cell_type": "markdown",
   "metadata": {},
   "source": [
    "If we set $\\epsilon = 0.000000001$, then the program's runtime and the number of iterations would increase unimaginably."
   ]
  },
  {
   "cell_type": "markdown",
   "metadata": {},
   "source": [
    "### Bisection Method\n",
    "\n",
    "A better choice, however, is the bisection method, as it splits the search intervals in half, significantly reducing the search range with each iteration.\n",
    "\n",
    "**Condictions**\n",
    "\n",
    "- Function $f(x)$ must be continuous on $[a, b]$.\n",
    "\n",
    "- Endpoint values $f(a), f(b)$ must have different signs.\n",
    "    - If $f(a) > 0$,  then $f(b) < 0$.\n",
    "    - If $f(a) < 0$,  then $f(b) > 0$.\n",
    "\n",
    "**Algorithm**\n",
    "\n",
    "1. Initialize $\\text{ans} \\gets \\frac{a + b}{2}$ and $0 < \\epsilon < 1$.\n",
    "\n",
    "2. If $f(\\text{ans}) = 0$, then $\\text{ans}$ is an answer. \n",
    "\n",
    "    - Remember $0 <f(\\text{ans}) < \\epsilon \\implies f(\\text{ans}) = 0$.\n",
    "\n",
    "3. If $f(\\text{ans}) > 0$, then\n",
    "    - if $f(a) > 0$ set $a \\gets \\text{ans}$,\n",
    "    - otherwise set $b \\gets \\text{ans}$.\n",
    "\n",
    "4. If $f(\\text{ans}) < 0$, then\n",
    "    - if $f(a) > 0$ set $b \\gets \\text{ans}$,\n",
    "    - otherwise set $a \\gets \\text{ans}$.\n",
    "\n",
    "5. Repeat this steps until you get the answer."
   ]
  },
  {
   "cell_type": "code",
   "execution_count": 6,
   "metadata": {},
   "outputs": [
    {
     "name": "stdout",
     "output_type": "stream",
     "text": [
      "Real Answer: 2 | Bisection Method: 2.0\n",
      "Real Answer: 5 | Bisection Method: 5.0\n",
      "Real Answer: 0 | Bisection Method: 0.0\n"
     ]
    }
   ],
   "source": [
    "def bisection_method(f, a, b, epsilon=0.0001):\n",
    "    if epsilon < 0:\n",
    "        epsilon = -epsilon\n",
    "    if a > b:\n",
    "        temp = a\n",
    "        a = b\n",
    "        b = temp\n",
    "    ans = (a + b) / 2\n",
    "    while f(ans) > epsilon or f(ans) < -epsilon:\n",
    "        if f(ans) > 0:\n",
    "            if f(a) > 0:\n",
    "                a = ans\n",
    "            else:\n",
    "                b = ans\n",
    "        if f(ans) < 0:\n",
    "            if f(a) > 0:\n",
    "                b = ans\n",
    "            else:\n",
    "                a = ans\n",
    "        ans = (a + b) / 2\n",
    "    return ans\n",
    "\n",
    "def f(x):\n",
    "    return x ** 2 - 4\n",
    "\n",
    "def g(x):\n",
    "    return 10 * (x ** 3) + 11 * (x ** 2) - 299 * x - 30\n",
    "\n",
    "def h(x):\n",
    "    return 2 * (x ** 3) - 3 * (x ** 2) + 5 * x\n",
    "\n",
    "print(f'Real Answer: 2 | Bisection Method: {bisection_method(f, 1, 3)}')\n",
    "print(f'Real Answer: 5 | Bisection Method: {bisection_method(g, 2, 6)}')\n",
    "print(f'Real Answer: 0 | Bisection Method: {bisection_method(h, -1, 1)}')"
   ]
  },
  {
   "cell_type": "markdown",
   "metadata": {},
   "source": [
    "The downside of this solution, however, is that for the algorithm to work correctly, we must assume that the function values at the endpoints of the examined interval have opposite signs."
   ]
  },
  {
   "cell_type": "code",
   "execution_count": 7,
   "metadata": {},
   "outputs": [
    {
     "name": "stdout",
     "output_type": "stream",
     "text": [
      "Real Answer: 2 | Bisection Method: (2.0, '(0 iterations)')\n",
      "Real Answer: 5 | Bisection Method: (5.0, '(1 iterations)')\n",
      "Real Answer: 0 | Bisection Method: (0.0, '(0 iterations)')\n"
     ]
    }
   ],
   "source": [
    "def bisection_method(f, a, b, epsilon=0.0001):\n",
    "    iterations = 0\n",
    "    if epsilon < 0:\n",
    "        epsilon = -epsilon\n",
    "    if a > b:\n",
    "        temp = a\n",
    "        a = b\n",
    "        b = temp\n",
    "    ans = (a + b) / 2\n",
    "    while f(ans) > epsilon or f(ans) < -epsilon:\n",
    "        if f(ans) > 0:\n",
    "            if f(a) > 0:\n",
    "                a = ans\n",
    "            else:\n",
    "                b = ans\n",
    "        if f(ans) < 0:\n",
    "            if f(a) > 0:\n",
    "                b = ans\n",
    "            else:\n",
    "                a = ans\n",
    "        ans = (a + b) / 2\n",
    "        iterations = iterations + 1\n",
    "    return (ans, f'({iterations} iterations)')\n",
    "\n",
    "def f(x):\n",
    "    return x ** 2 - 4\n",
    "\n",
    "def g(x):\n",
    "    return 10 * (x ** 3) + 11 * (x ** 2) - 299 * x - 30\n",
    "\n",
    "def h(x):\n",
    "    return 2 * (x ** 3) - 3 * (x ** 2) + 5 * x\n",
    "\n",
    "print(f'Real Answer: 2 | Bisection Method: {bisection_method(f, 1, 3)}')\n",
    "print(f'Real Answer: 5 | Bisection Method: {bisection_method(g, 2, 6)}')\n",
    "print(f'Real Answer: 0 | Bisection Method: {bisection_method(h, -1, 1)}')"
   ]
  },
  {
   "cell_type": "markdown",
   "metadata": {},
   "source": [
    "### Newton-Raphson Method\n",
    "\n",
    "The best method is the Newton-Raphson method because it doesn't require endpoint values, and the only requirement is an input for which the function is defined. It uses the tangent to the graph by utilizing the derivative. It determines the zero of the tangent and checks if it is also the zero of the function. A characteristic of this solution is that with each iteration, the new zero of the tangent is a better approximation of the zero of the function.\n",
    "\n",
    "**Algorithm**\n",
    "\n",
    "1. Set any $\\text{ans}$ that $f(\\text{ans})$ exists.\n",
    "\n",
    "2. If $f(\\text{ans}) = 0$, then $\\text{ans}$ is an answer.\n",
    "\n",
    "    - Remember $0 <f(\\text{ans}) < \\epsilon \\implies f(\\text{ans}) = 0$.\n",
    "\n",
    "3. If $f(\\text{ans}) \\neq 0$, then $\\text{ans} \\gets \\text{ans} - \\frac{f(\\text{ans})}{\\frac{d}{dx}\\big[ f(\\text{ans}) \\big]}$\n",
    "\n",
    "4. Repeat this steps (from point 2.) until you get the answer."
   ]
  },
  {
   "cell_type": "code",
   "execution_count": 8,
   "metadata": {},
   "outputs": [
    {
     "name": "stdout",
     "output_type": "stream",
     "text": [
      "Real Answer: 3 | Newton-Raphson Method: 3.000000764736198\n"
     ]
    }
   ],
   "source": [
    "def derivative(f, x, h=0.0001):\n",
    "        return (f(x + h) - f(x)) / h\n",
    "\n",
    "def newton_raphson_method(f, x_0, epsilon=0.0001):\n",
    "    if epsilon < 0:\n",
    "        epsilon = -epsilon\n",
    "    ans = x_0\n",
    "    while f(ans) > epsilon or f(ans) < -epsilon:\n",
    "        ans = ans - (f(ans) / derivative(f, ans))\n",
    "    return ans\n",
    "\n",
    "def f(x):\n",
    "    return (x ** 3) - 2 * (x ** 2) - 3 * x\n",
    "\n",
    "print(f'Real Answer: 3 | Newton-Raphson Method: {newton_raphson_method(f, 4)}')"
   ]
  },
  {
   "cell_type": "markdown",
   "metadata": {},
   "source": [
    "Using this method significantly reduces the number of iterations, making it a very efficient method for finding roots."
   ]
  },
  {
   "cell_type": "code",
   "execution_count": 9,
   "metadata": {},
   "outputs": [
    {
     "name": "stdout",
     "output_type": "stream",
     "text": [
      "Real Answer: 3 | Newton-Raphson Method: (3.000000764736198, '(4 iterations)')\n"
     ]
    }
   ],
   "source": [
    "def derivative(f, x, h=0.0001):\n",
    "        return (f(x + h) - f(x)) / h\n",
    "\n",
    "def newton_raphson_method(f, x_0, epsilon=0.0001):\n",
    "    iterations = 0\n",
    "    if epsilon < 0:\n",
    "        epsilon = -epsilon\n",
    "    ans = x_0\n",
    "    while f(ans) > epsilon or f(ans) < -epsilon:\n",
    "        ans = ans - (f(ans) / derivative(f, ans))\n",
    "        iterations = iterations + 1\n",
    "    return (ans, f'({iterations} iterations)')\n",
    "\n",
    "def f(x):\n",
    "    return (x ** 3) - 2 * (x ** 2) - 3 * x\n",
    "\n",
    "print(f'Real Answer: 3 | Newton-Raphson Method: {newton_raphson_method(f, 4)}')"
   ]
  },
  {
   "cell_type": "markdown",
   "metadata": {},
   "source": [
    "The problem with the Newton-Raphson method is that if during the calculations $\\frac{d}{dx}\\big[ f(\\text{ans}) \\big] = 0$, the program will return an error because division by zero is not possible. Moreover, it can be observed that in the above example, the function has more than one root, yet the function returned only one.\n",
    "\n",
    "For example $f(x) = x^2 - 2x$ and $\\text{ans} = 1$.\n",
    "\n",
    "Iteration 1: $\\text{ans} \\gets 1 - \\frac{-1}{0}$"
   ]
  },
  {
   "cell_type": "code",
   "execution_count": 10,
   "metadata": {},
   "outputs": [
    {
     "name": "stdout",
     "output_type": "stream",
     "text": [
      "(2.0000042184125744, '(17 iterations)')\n"
     ]
    }
   ],
   "source": [
    "def derivative(f, x, h=0.0001):\n",
    "        return (f(x + h) - f(x)) / h\n",
    "\n",
    "def newton_raphson_method(f, x_0, epsilon=0.0001):\n",
    "    iterations = 0\n",
    "    if epsilon < 0:\n",
    "        epsilon = -epsilon\n",
    "    ans = x_0\n",
    "    while f(ans) > epsilon or f(ans) < -epsilon:\n",
    "        ans = ans - (f(ans) / derivative(f, ans))\n",
    "        iterations = iterations + 1\n",
    "    return (ans, f'({iterations} iterations)')\n",
    "\n",
    "def f(x):\n",
    "    return (x ** 2) - 2 * x\n",
    "\n",
    "print(newton_raphson_method(f, 1))"
   ]
  },
  {
   "cell_type": "markdown",
   "metadata": {},
   "source": [
    "In this case, the inaccuracy of the calculations helped avoid the problem, because most likely the derivative was not exactly zero, but a number very close to zero. However, this should not be treated as a rule."
   ]
  },
  {
   "cell_type": "markdown",
   "metadata": {},
   "source": [
    "### Comparision of All Numerical Methods\n",
    "\n",
    "I will compare the number of iterations for all methods for computing the square root of $49$.\n",
    "\n",
    "$ x = \\sqrt{49}, \\text{ notice that } x \\geq 0$\n",
    "\n",
    "$x = \\sqrt{49} \\bigg|^2 $\n",
    "\n",
    "$x^2 = 49$\n",
    "\n",
    "$x^2 - 49 = 0 $\n",
    "\n",
    "My aim is to find the root of $f(x) = x^2 - 49$."
   ]
  },
  {
   "cell_type": "code",
   "execution_count": 11,
   "metadata": {},
   "outputs": [
    {
     "name": "stdout",
     "output_type": "stream",
     "text": [
      "Approximation Method: (6.999999999999895, '(700 iterations)')\n",
      "Bisection Method: (6.999998092651367, '(19 iterations)')\n",
      "Newton-Raphson Method: (7.000000151432483, '(6 iterations)')\n"
     ]
    }
   ],
   "source": [
    "def approximation_method(f, a, b, epsilon=0.01):\n",
    "    iterations = 0\n",
    "    if epsilon < 0:\n",
    "        epsilon = -epsilon\n",
    "    ans = a\n",
    "    while ans <= b:\n",
    "        if -epsilon <= f(ans) <= epsilon:\n",
    "            return (ans, f'({iterations} iterations)')\n",
    "        ans = ans + epsilon\n",
    "        iterations = iterations + 1\n",
    "\n",
    "def bisection_method(f, a, b, epsilon=0.0001):\n",
    "    iterations = 0\n",
    "    if epsilon < 0:\n",
    "        epsilon = -epsilon\n",
    "    if a > b:\n",
    "        temp = a\n",
    "        a = b\n",
    "        b = temp\n",
    "    ans = (a + b) / 2\n",
    "    while f(ans) > epsilon or f(ans) < -epsilon:\n",
    "        if f(ans) > 0:\n",
    "            if f(a) > 0:\n",
    "                a = ans\n",
    "            else:\n",
    "                b = ans\n",
    "        if f(ans) < 0:\n",
    "            if f(a) > 0:\n",
    "                b = ans\n",
    "            else:\n",
    "                a = ans\n",
    "        ans = (a + b) / 2\n",
    "        iterations = iterations + 1\n",
    "    return (ans, f'({iterations} iterations)')\n",
    "\n",
    "def derivative(f, x, h=0.0001):\n",
    "        return (f(x + h) - f(x)) / h\n",
    "\n",
    "def newton_raphson_method(f, x_0, epsilon=0.0001):\n",
    "    iterations = 0\n",
    "    if epsilon < 0:\n",
    "        epsilon = -epsilon\n",
    "    ans = x_0\n",
    "    while f(ans) > epsilon or f(ans) < -epsilon:\n",
    "        ans = ans - (f(ans) / derivative(f, ans))\n",
    "        iterations = iterations + 1\n",
    "    return (ans, f'({iterations} iterations)')\n",
    "\n",
    "def f(x):\n",
    "    return (x ** 2) - 49\n",
    "\n",
    "print(f'Approximation Method: {approximation_method(f, 0, 10)}')\n",
    "print(f'Bisection Method: {bisection_method(f, 0, 10)}')\n",
    "print(f'Newton-Raphson Method: {newton_raphson_method(f, 1)}')"
   ]
  },
  {
   "cell_type": "markdown",
   "metadata": {},
   "source": [
    "| Method                    | Description                                                                                               | Pros                                        | Cons                                           |\n",
    "|---------------------------|-----------------------------------------------------------------------------------------------------------|---------------------------------------------|------------------------------------------------|\n",
    "| **Approximation Method**   | This method increments the value of the starting point by a small step (`epsilon`) until the function is close to zero. | Simple to implement, works for continuous functions | Slow, may miss roots, especially if function values are close to zero. |\n",
    "| **Bisection Method**       | This method divides the interval in half, narrowing down the search space based on the function's sign at the endpoints. | Guaranteed to converge (if the function is continuous and the root is within the interval). | Requires a known interval with opposite signs at the endpoints. |\n",
    "| **Newton-Raphson Method**  | This method iteratively refines the root estimate using the function’s derivative to find the tangent's zero. | Fast convergence if the initial guess is close to the root. | Can fail if the derivative is zero or the initial guess is far from the root. |\n",
    "\n"
   ]
  }
 ],
 "metadata": {
  "kernelspec": {
   "display_name": "Python 3",
   "language": "python",
   "name": "python3"
  },
  "language_info": {
   "codemirror_mode": {
    "name": "ipython",
    "version": 3
   },
   "file_extension": ".py",
   "mimetype": "text/x-python",
   "name": "python",
   "nbconvert_exporter": "python",
   "pygments_lexer": "ipython3",
   "version": "3.12.4"
  }
 },
 "nbformat": 4,
 "nbformat_minor": 2
}
