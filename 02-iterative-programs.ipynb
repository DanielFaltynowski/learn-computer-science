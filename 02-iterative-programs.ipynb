{
 "cells": [
  {
   "cell_type": "markdown",
   "metadata": {},
   "source": [
    "# Branching Programs\n",
    "\n",
    "The kinds of computations we have been looking at thus far are called straight-line programs. They execute one statement after another in the order in which they appear, and stop when they run out of statements.\n",
    "\n",
    "Program that can change the order of executing instructions, based on defined *conditional*, is called a *branching program*. A conditional statement has three parts:\n",
    "\n",
    "- a test, i.e., an expression that evaluates to either `True` or `False`;\n",
    "\n",
    "- a block of code that is executed if the test evaluates to `True`; and\n",
    "\n",
    "- an optional block of code that is executed if the test evaluates to `False`."
   ]
  },
  {
   "cell_type": "markdown",
   "metadata": {},
   "source": [
    "### Conditional Statement in Python\n",
    "\n",
    "In Python, a conditional statement has the following form:\n",
    "\n",
    "```bash\n",
    "if <condition>:\n",
    "    <body>\n",
    "```\n",
    "Optionally, an optional block code that is executed if the test isn't passed after `else` statement.\n",
    "\n",
    "```bash\n",
    "if <condition>:\n",
    "    <body>\n",
    "else:\n",
    "    <body>\n",
    "```"
   ]
  },
  {
   "cell_type": "markdown",
   "metadata": {},
   "source": [
    "**Example 1.**\n",
    "\n",
    "Write a program that prints `x is equal zero` if $x=0$."
   ]
  },
  {
   "cell_type": "code",
   "execution_count": 1,
   "metadata": {},
   "outputs": [
    {
     "name": "stdout",
     "output_type": "stream",
     "text": [
      "x is equal zero\n"
     ]
    }
   ],
   "source": [
    "x = 0\n",
    "\n",
    "if x == 0:\n",
    "    print('x is equal zero')"
   ]
  },
  {
   "cell_type": "code",
   "execution_count": 2,
   "metadata": {},
   "outputs": [],
   "source": [
    "x = 1\n",
    "if x == 0:\n",
    "    print('x is equal zero')"
   ]
  },
  {
   "cell_type": "markdown",
   "metadata": {},
   "source": [
    "If $x = 0$, the output will be `x is equal zero`. Otherwise, the program will produce no output. In our super-basic example, this behaviour does not influence our efficiency of programming. But imagine that you present your code to your manager (or lecturer in this case), set $x=0$ and everything is okay. But if $x \\neq 0$, your manager won't be able to recognize if something went wrong. So you should handle the case if $x \\neq 0$ using `else` statement."
   ]
  },
  {
   "cell_type": "code",
   "execution_count": 3,
   "metadata": {},
   "outputs": [
    {
     "name": "stdout",
     "output_type": "stream",
     "text": [
      "x is equal zero\n"
     ]
    }
   ],
   "source": [
    "x = 0\n",
    "\n",
    "if x == 0:\n",
    "    print('x is equal zero')\n",
    "else:\n",
    "    print('x is not equal zero')"
   ]
  },
  {
   "cell_type": "code",
   "execution_count": 4,
   "metadata": {},
   "outputs": [
    {
     "name": "stdout",
     "output_type": "stream",
     "text": [
      "x is not equal zero\n"
     ]
    }
   ],
   "source": [
    "x = 1\n",
    "\n",
    "if x == 0:\n",
    "    print('x is equal zero')\n",
    "else:\n",
    "    print('x is not equal zero')"
   ]
  },
  {
   "cell_type": "markdown",
   "metadata": {},
   "source": [
    "**Example 2.**\n",
    "\n",
    "Write a program that for given $x$ will print its absolute value $|x|$."
   ]
  },
  {
   "cell_type": "markdown",
   "metadata": {},
   "source": [
    "Remember that absolute value for $x \\in \\mathbb{R}$ is defined by the following function $f: \\mathbb{R} \\longmapsto \\mathbb{R}$.\n",
    "\n",
    "$$\n",
    "f(x) = |x| = \\begin{cases}\n",
    "    x,& \\text{ if } x \\geq 0 \\\\\n",
    "    -x,& \\text{ if } x < 0\n",
    "\\end{cases}\n",
    "$$\n",
    "\n",
    "For example $|3|=3$, but $|-3| = 3$, so for every $x\\in \\mathbb{R}$ occurs $|x|=|-x|$ and $|x| \\geq 0$."
   ]
  },
  {
   "cell_type": "code",
   "execution_count": 5,
   "metadata": {},
   "outputs": [
    {
     "name": "stdout",
     "output_type": "stream",
     "text": [
      "3\n"
     ]
    }
   ],
   "source": [
    "x = 3\n",
    "\n",
    "if x >= 0:\n",
    "    print(x)\n",
    "else:\n",
    "    print(-x)"
   ]
  },
  {
   "cell_type": "code",
   "execution_count": 6,
   "metadata": {},
   "outputs": [
    {
     "name": "stdout",
     "output_type": "stream",
     "text": [
      "3\n"
     ]
    }
   ],
   "source": [
    "x = -3\n",
    "\n",
    "if x >= 0:\n",
    "    print(x)\n",
    "else:\n",
    "    print(-x)"
   ]
  },
  {
   "cell_type": "markdown",
   "metadata": {},
   "source": [
    "**Example 3.**\n",
    "\n",
    "Write a program that will print `x is even` if $x$ is even, and `x is odd` otherwise."
   ]
  },
  {
   "cell_type": "markdown",
   "metadata": {},
   "source": [
    "There are many ways to solve this problem.\n",
    "\n",
    "1. Number $x\\in \\mathbb{Z}$ is even if one of the divisors of $x$ is 2. That implies that $x$ is even if the remainder of $\\frac{x}{2}$ equals 0."
   ]
  },
  {
   "cell_type": "code",
   "execution_count": 7,
   "metadata": {},
   "outputs": [
    {
     "name": "stdout",
     "output_type": "stream",
     "text": [
      "x is even\n"
     ]
    }
   ],
   "source": [
    "x = 4\n",
    "\n",
    "if x % 2 == 0:\n",
    "    print('x is even')\n",
    "else:\n",
    "    print('x is odd')"
   ]
  },
  {
   "cell_type": "code",
   "execution_count": 8,
   "metadata": {},
   "outputs": [
    {
     "name": "stdout",
     "output_type": "stream",
     "text": [
      "x is odd\n"
     ]
    }
   ],
   "source": [
    "x = 5\n",
    "\n",
    "if x % 2 == 0:\n",
    "    print('x is even')\n",
    "else:\n",
    "    print('x is odd')"
   ]
  },
  {
   "cell_type": "markdown",
   "metadata": {},
   "source": [
    "2. You can also define the condition in an opposite way. Number $x$ is odd if the remainder $\\frac{x}{2}$ does not equal 0."
   ]
  },
  {
   "cell_type": "code",
   "execution_count": 9,
   "metadata": {},
   "outputs": [
    {
     "name": "stdout",
     "output_type": "stream",
     "text": [
      "x is even\n"
     ]
    }
   ],
   "source": [
    "x = 4\n",
    "\n",
    "if x % 2 != 0:\n",
    "    print('x is odd')\n",
    "else:\n",
    "    print('x is even')"
   ]
  },
  {
   "cell_type": "code",
   "execution_count": 10,
   "metadata": {},
   "outputs": [
    {
     "name": "stdout",
     "output_type": "stream",
     "text": [
      "x is odd\n"
     ]
    }
   ],
   "source": [
    "x = 5\n",
    "\n",
    "if x % 2 != 0:\n",
    "    print('x is odd')\n",
    "else:\n",
    "    print('x is even')"
   ]
  },
  {
   "cell_type": "markdown",
   "metadata": {},
   "source": [
    "3. The third way to solve this problem is to use `//` operation. If $x$ is odd, then operation `x / 2` will give a `float` type value. So if $x$ is odd, then `x // 2` will lose its floating part."
   ]
  },
  {
   "cell_type": "code",
   "execution_count": 11,
   "metadata": {},
   "outputs": [
    {
     "name": "stdout",
     "output_type": "stream",
     "text": [
      "x is even\n"
     ]
    }
   ],
   "source": [
    "x = 4\n",
    "\n",
    "if (x // 2) * 2 == x:\n",
    "    print('x is even')\n",
    "else:\n",
    "    print('x is odd')"
   ]
  },
  {
   "cell_type": "code",
   "execution_count": 12,
   "metadata": {},
   "outputs": [
    {
     "name": "stdout",
     "output_type": "stream",
     "text": [
      "x is odd\n"
     ]
    }
   ],
   "source": [
    "x = 5\n",
    "\n",
    "if (x // 2) * 2 == x:\n",
    "    print('x is even')\n",
    "else:\n",
    "    print('x is odd')"
   ]
  },
  {
   "cell_type": "markdown",
   "metadata": {},
   "source": [
    "4. The same in the opposite way."
   ]
  },
  {
   "cell_type": "code",
   "execution_count": 13,
   "metadata": {},
   "outputs": [
    {
     "name": "stdout",
     "output_type": "stream",
     "text": [
      "x is even\n"
     ]
    }
   ],
   "source": [
    "x = 4\n",
    "\n",
    "if (x // 2) * 2 != x:\n",
    "    print('x is odd')\n",
    "else:\n",
    "    print('x is even')"
   ]
  },
  {
   "cell_type": "code",
   "execution_count": 14,
   "metadata": {},
   "outputs": [
    {
     "name": "stdout",
     "output_type": "stream",
     "text": [
      "x is odd\n"
     ]
    }
   ],
   "source": [
    "x = 5\n",
    "\n",
    "if (x // 2) * 2 != x:\n",
    "    print('x is odd')\n",
    "else:\n",
    "    print('x is even')"
   ]
  },
  {
   "cell_type": "markdown",
   "metadata": {},
   "source": [
    "### Flowchart\n",
    "\n",
    "A **flowchart** is a type of diagram that represents a workflow or process. A flowchart can also be defined as a diagrammatic representation of an algorithm, a step-by-step approach to solving a task.\n",
    "\n",
    "![Flowcharts](images/flowcharts.png)"
   ]
  },
  {
   "cell_type": "markdown",
   "metadata": {},
   "source": [
    "**Example 1.**\n",
    "\n",
    "Draw a flowchart of the program that prints `x is equal zero` if $x=0$.\n",
    "\n",
    "![Flowchart](images/fc_ex1.png)"
   ]
  },
  {
   "cell_type": "markdown",
   "metadata": {},
   "source": [
    "**Example 2.**\n",
    "\n",
    "Draw a flowchart of the program that for given $x$ will print its absolute value $|x|$.\n",
    "\n",
    "![Flowchart](images/fc_ex2.png)"
   ]
  },
  {
   "cell_type": "markdown",
   "metadata": {},
   "source": [
    "**Example 3.**\n",
    "\n",
    "Draw a flowchart of the program that will print `x is even` if $x$ is even, and `x is odd` otherwise.\n",
    "\n",
    "![Flowchart](images/fc_ex3.png)"
   ]
  },
  {
   "cell_type": "markdown",
   "metadata": {},
   "source": [
    "### Pseudocode\n",
    "\n",
    "**Pseudocode** is a universal set of instructions for some procedure that can be understood by every programmer, no matter which programming language they use."
   ]
  },
  {
   "cell_type": "markdown",
   "metadata": {},
   "source": [
    "**Example 1.**\n",
    "\n",
    "Write a pseudocode of the program that prints `x is equal zero` if $x=0$.\n",
    "\n",
    "```bash\n",
    "EQUAL_ZERO(int x): str\n",
    "    if x = 0 then\n",
    "        print that x equals zero\n",
    "    else\n",
    "        print that x not equals zero\n",
    "```"
   ]
  },
  {
   "cell_type": "markdown",
   "metadata": {},
   "source": [
    "**Example 2.**\n",
    "\n",
    "Write a pseudocode of the program that for given $x$ will print its absolute value $|x|$.\n",
    "\n",
    "```bash\n",
    "ABSOLUTE_VALUE(int x): int\n",
    "    if x >= 0 then\n",
    "        return x\n",
    "    else\n",
    "        retuurn -x\n",
    "```"
   ]
  },
  {
   "cell_type": "markdown",
   "metadata": {},
   "source": [
    "**Example 3.**\n",
    "\n",
    "Write a pseudocode of the program that will print `x is even` if $x$ is even, and `x is odd` otherwise.\n",
    "\n",
    "```bash\n",
    "IS_EVEN_ODD(int x): str\n",
    "    if x mod 2 = 0 then\n",
    "        print that x is even\n",
    "    else\n",
    "        print that x is odd\n",
    "```"
   ]
  },
  {
   "cell_type": "markdown",
   "metadata": {},
   "source": [
    "### Test Coverage\n",
    "\n",
    "To be 100% sure that your program works as you expect, check every possible input and every possible output. If somewhere the program gives unexpected results, your program needs repair."
   ]
  },
  {
   "cell_type": "markdown",
   "metadata": {},
   "source": [
    "**Example**\n",
    "\n",
    "Assume you want to write a program that will say which number $x, y, z \\in \\mathbb{R}$ is the least."
   ]
  },
  {
   "cell_type": "code",
   "execution_count": 15,
   "metadata": {},
   "outputs": [
    {
     "name": "stdout",
     "output_type": "stream",
     "text": [
      "y is least\n"
     ]
    }
   ],
   "source": [
    "x = 15\n",
    "y = 5\n",
    "z = 11\n",
    "\n",
    "if x < y:\n",
    "    if x < z:\n",
    "        print('x is least')\n",
    "    else:\n",
    "        print('z is least')\n",
    "else:\n",
    "    print('y is least')"
   ]
  },
  {
   "cell_type": "code",
   "execution_count": 16,
   "metadata": {},
   "outputs": [
    {
     "name": "stdout",
     "output_type": "stream",
     "text": [
      "y is least\n"
     ]
    }
   ],
   "source": [
    "x = 15\n",
    "y = 13\n",
    "z = 11\n",
    "\n",
    "if x < y:\n",
    "    if x < z:\n",
    "        print('x is least')\n",
    "    else:\n",
    "        print('z is least')\n",
    "else:\n",
    "    print('y is least')"
   ]
  },
  {
   "cell_type": "markdown",
   "metadata": {},
   "source": [
    "All conditions are correct. For $x = 15$, $y = 5$, $z = 11$ the output is `y is least`. But for $x = 15$, $y = 13$, $z = 11$ the output is also `y is least`. You must pay attention that if the first condition returns `True`, then the `else` block becomes unavailable."
   ]
  },
  {
   "cell_type": "code",
   "execution_count": 17,
   "metadata": {},
   "outputs": [
    {
     "name": "stdout",
     "output_type": "stream",
     "text": [
      "y is least\n"
     ]
    }
   ],
   "source": [
    "x = 15\n",
    "y = 5\n",
    "z = 11\n",
    "\n",
    "if x < y and x < z:\n",
    "    print('x is least')\n",
    "else:\n",
    "    if y < z:\n",
    "        print('y is least')\n",
    "    else:\n",
    "        print('z is least')"
   ]
  },
  {
   "cell_type": "code",
   "execution_count": 18,
   "metadata": {},
   "outputs": [
    {
     "name": "stdout",
     "output_type": "stream",
     "text": [
      "z is least\n"
     ]
    }
   ],
   "source": [
    "x = 15\n",
    "y = 13\n",
    "z = 11\n",
    "\n",
    "if x < y and x < z:\n",
    "    print('x is least')\n",
    "else:\n",
    "    if y < z:\n",
    "        print('y is least')\n",
    "    else:\n",
    "        print('z is least')"
   ]
  },
  {
   "cell_type": "markdown",
   "metadata": {},
   "source": [
    "For $x = 15$, $y = 5$, $z = 11$ the output is `y is least`, and for $x = 15$, $y = 13$, $z = 11$ the output is also `z is least`."
   ]
  },
  {
   "cell_type": "markdown",
   "metadata": {},
   "source": [
    "### Matching\n",
    "\n",
    "In Python, there exists the structure `elif <condition>` that combines `else: if <condition>` into a shorter form."
   ]
  },
  {
   "cell_type": "markdown",
   "metadata": {},
   "source": [
    "**Example**\n",
    "\n",
    "The program that will say which number $x, y, z \\in \\mathbb{R}$ is the least can be written more concisely using the `elif` statement."
   ]
  },
  {
   "cell_type": "code",
   "execution_count": 19,
   "metadata": {},
   "outputs": [
    {
     "name": "stdout",
     "output_type": "stream",
     "text": [
      "y is least\n"
     ]
    }
   ],
   "source": [
    "x = 15\n",
    "y = 5\n",
    "z = 11\n",
    "\n",
    "if x < y and x < z:\n",
    "    print('x is least')\n",
    "elif y < z:\n",
    "    print('y is least')\n",
    "else:\n",
    "    print('z is least')"
   ]
  },
  {
   "cell_type": "code",
   "execution_count": 20,
   "metadata": {},
   "outputs": [
    {
     "name": "stdout",
     "output_type": "stream",
     "text": [
      "z is least\n"
     ]
    }
   ],
   "source": [
    "x = 15\n",
    "y = 13\n",
    "z = 11\n",
    "\n",
    "if x < y and x < z:\n",
    "    print('x is least')\n",
    "elif y < z:\n",
    "    print('y is least')\n",
    "else:\n",
    "    print('z is least')"
   ]
  },
  {
   "cell_type": "markdown",
   "metadata": {},
   "source": [
    "For $x = 15$, $y = 5$, $z = 11$ the output is `y is least`, and for $x = 15$, $y = 13$, $z = 11$ the output is also `z is least`."
   ]
  },
  {
   "cell_type": "markdown",
   "metadata": {},
   "source": [
    "# Iterations\n",
    "\n",
    "Writing a program that asks the user how many time he wants to print the letter X, and then prints a string with that number of X’s. We might think about writing something like this.\n",
    "\n",
    "```bash\n",
    "numXs = int(input('How many times should I print the letter X? ')) \n",
    "toPrint = None\n",
    "if numXs == 1:\n",
    "    toPrint = 'X'\n",
    "elif numXs == 2:\n",
    "    toPrint = 'XX'\n",
    "elif numXs == 3:\n",
    "    toPrint = 'XXX'\n",
    "#...\n",
    "print(toPrint)\n",
    "```\n",
    "\n",
    "But it would quickly become apparent that we would need as many conditionals as there are positive integers and there are an infinite number of those. "
   ]
  },
  {
   "cell_type": "markdown",
   "metadata": {},
   "source": [
    "### Loop\n",
    "\n",
    "When we want a program to do the same thing many times, we can use **iteration**. Like a conditional statement, it begins with a test. If the test evaluates to `True`, the program executes the **loop** body once, and then goes back to reevaluate the test. This process is repeated until the test evaluates to `False`, after which control passes to the code following the iteration statement.\n",
    "\n",
    "In Python, a iteration has the following form.\n",
    "\n",
    "```bash\n",
    "while <condition>:\n",
    "    <body>\n",
    "```"
   ]
  },
  {
   "cell_type": "markdown",
   "metadata": {},
   "source": [
    "**Example 1.**\n",
    "\n",
    "Write a program that prints numbers from 1 to $n - 1$."
   ]
  },
  {
   "cell_type": "code",
   "execution_count": 21,
   "metadata": {},
   "outputs": [
    {
     "name": "stdout",
     "output_type": "stream",
     "text": [
      "1\n",
      "2\n",
      "3\n",
      "4\n",
      "5\n",
      "6\n",
      "7\n",
      "8\n",
      "9\n"
     ]
    }
   ],
   "source": [
    "i = 1\n",
    "n = 10\n",
    "\n",
    "while i < n:\n",
    "    print(i)\n",
    "    i = i + 1"
   ]
  },
  {
   "cell_type": "code",
   "execution_count": 22,
   "metadata": {},
   "outputs": [
    {
     "name": "stdout",
     "output_type": "stream",
     "text": [
      "1\n",
      "2\n",
      "3\n",
      "4\n",
      "5\n",
      "6\n",
      "7\n",
      "8\n",
      "9\n"
     ]
    }
   ],
   "source": [
    "i = 1\n",
    "n = 10\n",
    "\n",
    "condition = i < n\n",
    "\n",
    "while condition:\n",
    "    print(i)\n",
    "    i = i + 1\n",
    "    condition = i < n"
   ]
  },
  {
   "cell_type": "markdown",
   "metadata": {},
   "source": [
    "There are two methods of evaluating loop condition. It is necessary to be able use appropriate method due to program application. In this case using first or second method does not matter.\n",
    "\n",
    "```bash\n",
    "FROM_ONE_TO_NINE(int n): str\n",
    "    i <- 1\n",
    "    while i < n do\n",
    "        print i\n",
    "        i <- i + 1\n",
    "```\n",
    "\n",
    "![Flowchart](images/one_to_n.png)"
   ]
  },
  {
   "cell_type": "markdown",
   "metadata": {},
   "source": [
    "**Example 2.**\n",
    "\n",
    "Write a program that prints even numbers from 1 to $n - 1$."
   ]
  },
  {
   "cell_type": "code",
   "execution_count": 23,
   "metadata": {},
   "outputs": [
    {
     "name": "stdout",
     "output_type": "stream",
     "text": [
      "2\n",
      "4\n",
      "6\n",
      "8\n"
     ]
    }
   ],
   "source": [
    "i = 1\n",
    "n = 10\n",
    "\n",
    "while i < n:\n",
    "    if i % 2 == 0:\n",
    "        print(i)\n",
    "    i = i + 1"
   ]
  },
  {
   "cell_type": "markdown",
   "metadata": {},
   "source": [
    "```bash\n",
    "FROM_ONE_TO_NINE_EVEN(int n): str\n",
    "    i <- 1\n",
    "    while i < n do\n",
    "        if i mod 2 = 0 then\n",
    "            print i\n",
    "        i <- i + 1\n",
    "```\n",
    "\n",
    "![Flowchart](images/one_to_n_even.png)"
   ]
  },
  {
   "cell_type": "markdown",
   "metadata": {},
   "source": [
    "### Iterative Program Rules\n",
    "\n",
    "1. Choose a variable that *counts*.\n",
    "\n",
    "2. Initialize the **counter** outside the *loop*.\n",
    "\n",
    "3. Set up the **end test**.\n",
    "\n",
    "4. Change the value of the counter inside the *loop*."
   ]
  },
  {
   "cell_type": "markdown",
   "metadata": {},
   "source": [
    "**Example 1.**\n",
    "\n",
    "Use Python to calculate the value of $\\displaystyle\\sum_{i=1}^{n}{i} = 1 + 2 + 3 + ... + n$."
   ]
  },
  {
   "cell_type": "code",
   "execution_count": 24,
   "metadata": {},
   "outputs": [
    {
     "name": "stdout",
     "output_type": "stream",
     "text": [
      "55\n"
     ]
    }
   ],
   "source": [
    "i = 1\n",
    "n = 10\n",
    "ans = 0\n",
    "\n",
    "while i <= n:\n",
    "    ans = ans + i\n",
    "    i = i + 1\n",
    "\n",
    "print(ans)"
   ]
  },
  {
   "cell_type": "markdown",
   "metadata": {},
   "source": [
    "For **addition**, basic value of the counter is $0$."
   ]
  },
  {
   "cell_type": "markdown",
   "metadata": {},
   "source": [
    "**Example 2.**\n",
    "\n",
    "Use Python to calculate the value of factorial $n!= \\displaystyle\\prod_{i=1}^{n}{i} = 1 \\times 2 \\times 3 \\times ... \\times n$."
   ]
  },
  {
   "cell_type": "code",
   "execution_count": 25,
   "metadata": {},
   "outputs": [
    {
     "name": "stdout",
     "output_type": "stream",
     "text": [
      "3628800\n"
     ]
    }
   ],
   "source": [
    "i = 1\n",
    "n = 10\n",
    "ans = 1\n",
    "\n",
    "while i <= n:\n",
    "    ans = ans * i\n",
    "    i = i + 1\n",
    "\n",
    "print(ans)"
   ]
  },
  {
   "cell_type": "markdown",
   "metadata": {},
   "source": [
    "For **multiplication**, basic value of the counter is $1$."
   ]
  },
  {
   "cell_type": "markdown",
   "metadata": {},
   "source": [
    "**Example 3.**\n",
    "\n",
    "Use Python to calculate the value of $\\displaystyle\\sum_{i=1}^{n}{i^2} = 1^2 + 2^2 + 3^2 + ... + n^2$."
   ]
  },
  {
   "cell_type": "code",
   "execution_count": 26,
   "metadata": {},
   "outputs": [
    {
     "name": "stdout",
     "output_type": "stream",
     "text": [
      "385\n"
     ]
    }
   ],
   "source": [
    "i = 1\n",
    "n = 10\n",
    "ans = 0\n",
    "\n",
    "while i <= n:\n",
    "    ans = ans + (i ** 2)\n",
    "    i = i + 1\n",
    "    \n",
    "print(ans)"
   ]
  },
  {
   "cell_type": "markdown",
   "metadata": {},
   "source": [
    "You can also replace `ans = ans + (i ** 2)` with `ans = ans + (i * i)`."
   ]
  },
  {
   "cell_type": "markdown",
   "metadata": {},
   "source": [
    "# Simulating Iterations\n",
    "\n",
    "Sometimes, despite great efforts, it is difficult to find an error by looking at successive lines of written code. In the case of larger projects, this is incredibly troublesome. Therefore, a good programmer must be able to simulate all the algorithms they have written on a piece of paper. Moreover, this is the fastest way to find potential errors in the program."
   ]
  },
  {
   "cell_type": "markdown",
   "metadata": {},
   "source": [
    "**Example 1.**\n",
    "\n",
    "Consider the program that calculates $x^y$ for given $x, y\\in \\N^{+}$."
   ]
  },
  {
   "cell_type": "code",
   "execution_count": 27,
   "metadata": {},
   "outputs": [
    {
     "name": "stdout",
     "output_type": "stream",
     "text": [
      "x^y = 243\n"
     ]
    }
   ],
   "source": [
    "x = 3\n",
    "y = 5\n",
    "ans = 1\n",
    "\n",
    "while y > 0:\n",
    "    ans = ans * x\n",
    "    y = y - 1\n",
    "    \n",
    "print('x^y =', ans)"
   ]
  },
  {
   "cell_type": "markdown",
   "metadata": {},
   "source": [
    "Let's simulate, how it works for $x=3$ and $y=5$.\n",
    "\n",
    "$$\\begin{array}{c|c|c|c|c}\n",
    "    \\text{iteration} & x & y & \\text{ans} & y > 0 \\\\\n",
    "    \\hline\n",
    "    0 & 3 & 5 & 1 & \\texttt{True} \\\\\n",
    "    1 & 3 & 4 & 3 & \\texttt{True} \\\\\n",
    "    2 & 3 & 3 & 9 & \\texttt{True} \\\\\n",
    "    3 & 3 & 2 & 27 & \\texttt{True} \\\\\n",
    "    4 & 3 & 1 & 81& \\texttt{True} \\\\\n",
    "    5 & 3 & 0 & 243 & \\texttt{False} \\\\\n",
    "    \\end{array}$$\n",
    "\n",
    "The answer is $243$."
   ]
  },
  {
   "cell_type": "markdown",
   "metadata": {},
   "source": [
    "**Example 2.**\n",
    "\n",
    "Consider the following flowchart.\n",
    "\n",
    "![Flowchart 1](images/sim1.png)\n",
    "\n",
    "The idea is to check whether $n$ is a perfect square, that means $\\sqrt{n}\\in \\mathbb{N}$. For example, $16$ is a perfect square because $\\sqrt{16}=4$ and $4 \\in \\mathbb{N}$. But $20$ is not a perfect square because $\\sqrt{20}=2\\sqrt{5}$ and $2\\sqrt{5} \\notin \\mathbb{N}$. Let's try it for $n=16$.\n",
    "\n",
    "$$\n",
    "\\begin{array}{c|c|c|c|c}\n",
    "    \\text{iteration} & n & \\text{ans} & \\text{ans}^2 & \\text{ans}^2 \\leq n \\\\\n",
    "    \\hline\n",
    "    0 & 16 & 0 & 0 & \\texttt{True} \\\\\n",
    "    1 & 16 & 1 & 1 & \\texttt{True} \\\\\n",
    "    2 & 16 & 2 & 4 & \\texttt{True} \\\\\n",
    "    3 & 16 & 3 & 9 & \\texttt{True} \\\\\n",
    "    4 & 16 & 4 & 16 & \\texttt{True} \\\\\n",
    "    5 & 16 & 5 & 25 & \\texttt{False} \n",
    "\\end{array}\n",
    "$$\n",
    "\n",
    "So the result is $5$ which we didn't expect. The problem is with the conditional $\\text{ans}^2 \\leq n$. If we change this to $\\text{ans}^2 < n$, the algorithm should work correctly.\n",
    "\n",
    "![Flowchart 2](images/sim2.png)\n",
    "\n",
    "$$\n",
    "\\begin{array}{c|c|c|c|c}\n",
    "    \\text{iteration} & n & \\text{ans} & \\text{ans}^2 & \\text{ans}^2 < n \\\\\n",
    "    \\hline\n",
    "    0 & 16 & 0 & 0 & \\texttt{True} \\\\\n",
    "    1 & 16 & 1 & 1 & \\texttt{True} \\\\\n",
    "    2 & 16 & 2 & 4 & \\texttt{True} \\\\\n",
    "    3 & 16 & 3 & 9 & \\texttt{True} \\\\\n",
    "    4 & 16 & 4 & 16 & \\texttt{False} \n",
    "\\end{array}\n",
    "$$\n",
    "\n",
    "So the result is $4$ as we expected, but how would the algorithm behave for $n=20$?\n",
    "\n",
    "$$\n",
    "\\begin{array}{c|c|c|c|c}\n",
    "    \\text{iteration} & n & \\text{ans} & \\text{ans}^2 & \\text{ans}^2 < n \\\\\n",
    "    \\hline\n",
    "    0 & 20 & 0 & 0 & \\texttt{True} \\\\\n",
    "    1 & 20 & 1 & 1 & \\texttt{True} \\\\\n",
    "    2 & 20 & 2 & 4 & \\texttt{True} \\\\\n",
    "    3 & 20 & 3 & 9 & \\texttt{True} \\\\\n",
    "    4 & 20 & 4 & 16 & \\texttt{True} \\\\\n",
    "    5 & 20 & 5 & 25 & \\texttt{False} \n",
    "\\end{array}\n",
    "$$\n",
    "\n",
    "The result is $5$ which is not correct, because $20$ is not a perfect square. Our goal is to handle the case if the answer (ans) is bigger than expected.\n",
    "\n",
    "![Flowchart 3](images/sim3.png)\n",
    "\n",
    "$$\n",
    "\\begin{array}{c|c|c|c|c|c}\n",
    "    \\text{iteration} & n & \\text{ans} & \\text{ans}^2 & \\text{ans}^2 < n & \\text{ans}^2 = n \\\\\n",
    "    \\hline\n",
    "    0 & 16 & 0 & 0 & \\texttt{True} & \\texttt{False} \\\\\n",
    "    1 & 16 & 1 & 1 & \\texttt{True} & \\texttt{False} \\\\\n",
    "    2 & 16 & 2 & 4 & \\texttt{True} & \\texttt{False} \\\\\n",
    "    3 & 16 & 3 & 9 & \\texttt{True} & \\texttt{False} \\\\\n",
    "    4 & 16 & 4 & 16 & \\texttt{False} & \\texttt{True} \n",
    "\\end{array}\n",
    "$$\n",
    "\n",
    "For $n=16$, output says that it is `True` and is for $4$.\n",
    "\n",
    "$$\n",
    "\\begin{array}{c|c|c|c|c|c}\n",
    "    \\text{iteration} & n & \\text{ans} & \\text{ans}^2 & \\text{ans}^2 < n & \\text{ans}^2 = n \\\\\n",
    "    \\hline\n",
    "    0 & 20 & 0 & 0 & \\texttt{True} & \\texttt{False} \\\\\n",
    "    1 & 20 & 1 & 1 & \\texttt{True} & \\texttt{False} \\\\\n",
    "    2 & 20 & 2 & 4 & \\texttt{True} & \\texttt{False} \\\\\n",
    "    3 & 20 & 3 & 9 & \\texttt{True} & \\texttt{False} \\\\\n",
    "    4 & 20 & 4 & 16 & \\texttt{True} & \\texttt{False} \\\\\n",
    "    5 & 20 & 5 & 25 & \\texttt{False} & \\texttt{False} \n",
    "\\end{array}\n",
    "$$\n",
    "\n",
    "For $n=20$, output says that it is `False`."
   ]
  },
  {
   "cell_type": "markdown",
   "metadata": {},
   "source": [
    "# Optimizing Amount of Calculations"
   ]
  },
  {
   "cell_type": "markdown",
   "metadata": {},
   "source": [
    "**Example 1.**\n",
    "\n",
    "We want to check how many numbers are the divisors of $n$. Consider the following code."
   ]
  },
  {
   "cell_type": "code",
   "execution_count": 28,
   "metadata": {},
   "outputs": [
    {
     "name": "stdout",
     "output_type": "stream",
     "text": [
      "8\n"
     ]
    }
   ],
   "source": [
    "n = 30\n",
    "i = 1\n",
    "ans = 0\n",
    "\n",
    "while i <= n:\n",
    "    if n % i == 0:\n",
    "        ans = ans + 1\n",
    "    i = i + 1\n",
    "\n",
    "print(ans)"
   ]
  },
  {
   "cell_type": "markdown",
   "metadata": {},
   "source": [
    "Program checks every number from 1 to $n$ and it works, but imagine how many operations this program could do if you insert the very big number. From mathematics we know that the largest divisor of $n$ is itself, and the second largest divisor cannot be bigger than $\\frac{n}{2}$. To reduce amount of calculations we should change our condition."
   ]
  },
  {
   "cell_type": "code",
   "execution_count": 29,
   "metadata": {},
   "outputs": [
    {
     "name": "stdout",
     "output_type": "stream",
     "text": [
      "8\n"
     ]
    }
   ],
   "source": [
    "n = 30\n",
    "i = 1\n",
    "ans = 0\n",
    "\n",
    "while i <= n / 2:\n",
    "    if n % i == 0:\n",
    "        ans = ans + 1\n",
    "    i = i + 1\n",
    "\n",
    "ans = ans + 1\n",
    "\n",
    "print(ans)"
   ]
  },
  {
   "cell_type": "markdown",
   "metadata": {},
   "source": [
    "Now this program returns the same outputs, but the amount of operations is reduced by a half."
   ]
  },
  {
   "cell_type": "markdown",
   "metadata": {},
   "source": [
    "**Example 2.**\n",
    "\n",
    "We want to check whether $n$ is a prime number. Consider the following pseudocode.\n",
    "\n",
    "```bash\n",
    "IS_PRIME(int n): bool\n",
    "    i <- 2\n",
    "    ans <- true\n",
    "    while i < n do\n",
    "        if n mod i = 0 then\n",
    "            ans <- False\n",
    "        i <- i + 1\n",
    "    return ans\n",
    "```\n",
    "\n",
    "There occurs the same problem. There are too many calculations, because from mathematics we know that the largest divisor of $n$ is itself, and the second largest divisor cannot be bigger than $\\frac{n}{2}$.\n",
    "\n",
    "```bash\n",
    "IS_PRIME(int n): bool\n",
    "    i <- 2\n",
    "    ans <- true\n",
    "    while i <= n / 2 do\n",
    "        if n mod i = 0 then\n",
    "            ans <- False\n",
    "        i <- i + 1\n",
    "    return ans\n",
    "```\n",
    "\n",
    "We reduced amount of calculations by a half, and we can still achieve better results. If $i$ is even we know that 2 is its divisor so we can skip every even number.\n",
    "\n",
    "```bash\n",
    "IS_PRIME(int n): bool\n",
    "    i <- 2\n",
    "    ans <- true\n",
    "    while i <= n / 2 do\n",
    "        if n mod i = 0 then\n",
    "            ans <- False\n",
    "        if i = 2 then\n",
    "            i <- i + 1\n",
    "        else\n",
    "            i <- i + 2\n",
    "    return ans\n",
    "```\n",
    "\n",
    "Now our program works very fast, don't do any unnecessary operations and skips numbers, that can longer time of calculations. But there is still one unfixed problem. Imagine that we enter some previous number like 4, then program will calculate all next possible numbers instead of returning `False`.\n",
    "```bash\n",
    "IS_PRIME(int n): bool\n",
    "    i <- 2\n",
    "    ans <- true\n",
    "    while ans = true and i <= n / 2 do\n",
    "        if n mod i = 0 then\n",
    "            ans <- False\n",
    "        if i = 2 then\n",
    "            i <- i + 1\n",
    "        else\n",
    "            i <- i + 2\n",
    "    return ans\n",
    "```\n",
    "\n",
    "This program is the most efficient way of calculating whether $n\\in \\mathbb{N}$ is a prime number."
   ]
  },
  {
   "cell_type": "markdown",
   "metadata": {},
   "source": [
    "# Halting Problem\n",
    "\n",
    "In computability theory, the \\textit{halting problem} is the problem of determining, from a description of an arbitrary computer program and an input, whether the program will finish running, or continue to run forever. The halting problem is undecidable, meaning that no general algorithm exists that solves the halting problem for all possible program–input pairs."
   ]
  },
  {
   "cell_type": "markdown",
   "metadata": {},
   "source": [
    "**Example 1.**\n",
    "\n",
    "Consider the following code."
   ]
  },
  {
   "cell_type": "code",
   "execution_count": 30,
   "metadata": {},
   "outputs": [
    {
     "ename": "KeyboardInterrupt",
     "evalue": "",
     "output_type": "error",
     "traceback": [
      "\u001b[0;31m---------------------------------------------------------------------------\u001b[0m",
      "\u001b[0;31mKeyboardInterrupt\u001b[0m                         Traceback (most recent call last)",
      "Cell \u001b[0;32mIn[30], line 4\u001b[0m\n\u001b[1;32m      1\u001b[0m n \u001b[38;5;241m=\u001b[39m \u001b[38;5;241m30\u001b[39m\n\u001b[1;32m      2\u001b[0m i \u001b[38;5;241m=\u001b[39m \u001b[38;5;241m1\u001b[39m\n\u001b[0;32m----> 4\u001b[0m \u001b[38;5;28;01mwhile\u001b[39;00m i \u001b[38;5;241m<\u001b[39m\u001b[38;5;241m=\u001b[39m n:\n\u001b[1;32m      5\u001b[0m     \u001b[38;5;28;01mif\u001b[39;00m i \u001b[38;5;241m%\u001b[39m \u001b[38;5;241m3\u001b[39m \u001b[38;5;241m==\u001b[39m \u001b[38;5;241m0\u001b[39m:\n\u001b[1;32m      6\u001b[0m         \u001b[38;5;28mprint\u001b[39m(\u001b[38;5;124m'\u001b[39m\u001b[38;5;124mFizz\u001b[39m\u001b[38;5;124m'\u001b[39m)\n",
      "\u001b[0;31mKeyboardInterrupt\u001b[0m: "
     ]
    }
   ],
   "source": [
    "n = 30\n",
    "i = 1\n",
    "\n",
    "while i <= n:\n",
    "    if i % 3 == 0:\n",
    "        print('Fizz')\n",
    "    elif i % 5 == 0:\n",
    "        print('Buzz')\n",
    "    elif i % 3 == 0 and i % 3 == 0:\n",
    "        print('FizzBuzz')"
   ]
  },
  {
   "cell_type": "markdown",
   "metadata": {},
   "source": [
    "Looks completely normal but if you run, its output will never appear so there is the halting problem. That's because `i = i + 1` statement is missing. Moreover, there is a semantic error that makes the last condition unavailable."
   ]
  },
  {
   "cell_type": "markdown",
   "metadata": {},
   "source": [
    "**Example 2.**\n",
    "\n",
    "Consider the following code."
   ]
  },
  {
   "cell_type": "code",
   "execution_count": 31,
   "metadata": {},
   "outputs": [
    {
     "name": "stdout",
     "output_type": "stream",
     "text": [
      "1 is a divisor of 30\n",
      "2 is a divisor of 30\n",
      "3 is a divisor of 30\n",
      "5 is a divisor of 30\n",
      "6 is a divisor of 30\n",
      "10 is a divisor of 30\n",
      "15 is a divisor of 30\n",
      "30 is a divisor of 30\n"
     ]
    }
   ],
   "source": [
    "n = 30\n",
    "i = 1\n",
    "\n",
    "while i <= n:\n",
    "    if n % i == 0:\n",
    "        print(i, 'is a divisor of', n)\n",
    "    i = i + 1"
   ]
  },
  {
   "cell_type": "markdown",
   "metadata": {},
   "source": [
    "This program does not have the halting problem. Looks sematically correct, but it is not. If $n < 1$, then program will produce no output."
   ]
  },
  {
   "cell_type": "code",
   "execution_count": 32,
   "metadata": {},
   "outputs": [],
   "source": [
    "n = -30\n",
    "i = 1\n",
    "\n",
    "while i <= n:\n",
    "    if n % i == 0:\n",
    "        print(i, 'is a divisor of', n)\n",
    "    i = i + 1"
   ]
  }
 ],
 "metadata": {
  "kernelspec": {
   "display_name": "Python 3",
   "language": "python",
   "name": "python3"
  },
  "language_info": {
   "codemirror_mode": {
    "name": "ipython",
    "version": 3
   },
   "file_extension": ".py",
   "mimetype": "text/x-python",
   "name": "python",
   "nbconvert_exporter": "python",
   "pygments_lexer": "ipython3",
   "version": "3.12.4"
  }
 },
 "nbformat": 4,
 "nbformat_minor": 2
}
